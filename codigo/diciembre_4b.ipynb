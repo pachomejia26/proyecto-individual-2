{
 "cells": [
  {
   "cell_type": "code",
   "execution_count": 1,
   "metadata": {},
   "outputs": [],
   "source": [
    "import pandas as pd"
   ]
  },
  {
   "cell_type": "code",
   "execution_count": 2,
   "metadata": {},
   "outputs": [],
   "source": [
    "import matplotlib.pyplot as plt\n",
    "import seaborn as sns"
   ]
  },
  {
   "cell_type": "code",
   "execution_count": 3,
   "metadata": {},
   "outputs": [],
   "source": [
    "import numpy as np"
   ]
  },
  {
   "cell_type": "code",
   "execution_count": 4,
   "metadata": {},
   "outputs": [],
   "source": [
    "path = 'C:/Users/Cecilia/Documents/francisco\\henry/proyecto_final_2b/datos/lesiones.xlsx'"
   ]
  },
  {
   "cell_type": "code",
   "execution_count": 27,
   "metadata": {},
   "outputs": [],
   "source": [
    "#df_diccionario_hechos = pd.read_excel(path,sheet_name='DICCIONARIO_HECHOS')\n",
    "#df_diccionario_victimas = pd.read_excel(path,sheet_name='DICCIONARIO_VICTIMAS')\n",
    "#df_diccionario_clas = pd.read_excel(path,sheet_name='clas')"
   ]
  },
  {
   "cell_type": "code",
   "execution_count": 5,
   "metadata": {},
   "outputs": [],
   "source": [
    "df_motos = pd.read_excel(path,sheet_name='HECHOS')"
   ]
  },
  {
   "cell_type": "code",
   "execution_count": 6,
   "metadata": {},
   "outputs": [
    {
     "data": {
      "text/html": [
       "<div>\n",
       "<style scoped>\n",
       "    .dataframe tbody tr th:only-of-type {\n",
       "        vertical-align: middle;\n",
       "    }\n",
       "\n",
       "    .dataframe tbody tr th {\n",
       "        vertical-align: top;\n",
       "    }\n",
       "\n",
       "    .dataframe thead th {\n",
       "        text-align: right;\n",
       "    }\n",
       "</style>\n",
       "<table border=\"1\" class=\"dataframe\">\n",
       "  <thead>\n",
       "    <tr style=\"text-align: right;\">\n",
       "      <th></th>\n",
       "      <th>id</th>\n",
       "      <th>n_victimas</th>\n",
       "      <th>aaaa</th>\n",
       "      <th>mm</th>\n",
       "      <th>dd</th>\n",
       "      <th>fecha</th>\n",
       "      <th>hora</th>\n",
       "      <th>franja_hora</th>\n",
       "      <th>direccion_normalizada</th>\n",
       "      <th>comuna</th>\n",
       "      <th>...</th>\n",
       "      <th>latutid</th>\n",
       "      <th>victima</th>\n",
       "      <th>acusado</th>\n",
       "      <th>participantes</th>\n",
       "      <th>moto</th>\n",
       "      <th>auto</th>\n",
       "      <th>transporte_publico</th>\n",
       "      <th>camion</th>\n",
       "      <th>ciclista</th>\n",
       "      <th>gravedad</th>\n",
       "    </tr>\n",
       "  </thead>\n",
       "  <tbody>\n",
       "    <tr>\n",
       "      <th>0</th>\n",
       "      <td>LC-2019-0000179</td>\n",
       "      <td>1</td>\n",
       "      <td>2019</td>\n",
       "      <td>1</td>\n",
       "      <td>1</td>\n",
       "      <td>2019-01-01 00:00:00</td>\n",
       "      <td>09:00:00</td>\n",
       "      <td>9</td>\n",
       "      <td>SD</td>\n",
       "      <td>14</td>\n",
       "      <td>...</td>\n",
       "      <td>-34.559658</td>\n",
       "      <td>CICLISTA</td>\n",
       "      <td>SD</td>\n",
       "      <td>CICLISTA-SD</td>\n",
       "      <td>SD</td>\n",
       "      <td>SD</td>\n",
       "      <td>SD</td>\n",
       "      <td>SD</td>\n",
       "      <td>x</td>\n",
       "      <td>SD</td>\n",
       "    </tr>\n",
       "    <tr>\n",
       "      <th>1</th>\n",
       "      <td>LC-2019-0000053</td>\n",
       "      <td>1</td>\n",
       "      <td>2019</td>\n",
       "      <td>1</td>\n",
       "      <td>1</td>\n",
       "      <td>2019-01-01 00:00:00</td>\n",
       "      <td>01:55:00</td>\n",
       "      <td>1</td>\n",
       "      <td>SD</td>\n",
       "      <td>8</td>\n",
       "      <td>...</td>\n",
       "      <td>-34.669125</td>\n",
       "      <td>AUTO</td>\n",
       "      <td>SD</td>\n",
       "      <td>AUTO-SD</td>\n",
       "      <td>SD</td>\n",
       "      <td>x</td>\n",
       "      <td>SD</td>\n",
       "      <td>SD</td>\n",
       "      <td>SD</td>\n",
       "      <td>SD</td>\n",
       "    </tr>\n",
       "  </tbody>\n",
       "</table>\n",
       "<p>2 rows × 27 columns</p>\n",
       "</div>"
      ],
      "text/plain": [
       "                id  n_victimas  aaaa  mm  dd                fecha      hora  \\\n",
       "0  LC-2019-0000179           1  2019   1   1  2019-01-01 00:00:00  09:00:00   \n",
       "1  LC-2019-0000053           1  2019   1   1  2019-01-01 00:00:00  01:55:00   \n",
       "\n",
       "  franja_hora direccion_normalizada comuna  ...     latutid   victima acusado  \\\n",
       "0           9                    SD     14  ...  -34.559658  CICLISTA      SD   \n",
       "1           1                    SD      8  ...  -34.669125      AUTO      SD   \n",
       "\n",
       "   participantes moto auto transporte_publico camion ciclista gravedad  \n",
       "0    CICLISTA-SD   SD   SD                 SD     SD        x       SD  \n",
       "1        AUTO-SD   SD    x                 SD     SD       SD       SD  \n",
       "\n",
       "[2 rows x 27 columns]"
      ]
     },
     "execution_count": 6,
     "metadata": {},
     "output_type": "execute_result"
    }
   ],
   "source": [
    "df_motos.head(2)"
   ]
  },
  {
   "cell_type": "code",
   "execution_count": 30,
   "metadata": {},
   "outputs": [],
   "source": [
    "del df_diccionario_victimas"
   ]
  },
  {
   "cell_type": "code",
   "execution_count": 8,
   "metadata": {},
   "outputs": [
    {
     "name": "stdout",
     "output_type": "stream",
     "text": [
      "(23785, 27)\n",
      "(23785, 27)\n"
     ]
    }
   ],
   "source": [
    "print(df_motos.shape)\n",
    "data = df_motos.drop_duplicates(subset='id')\n",
    "data = df_motos.reset_index(drop=True)\n",
    "print(df_motos.shape)"
   ]
  },
  {
   "cell_type": "markdown",
   "metadata": {},
   "source": [
    "La base de datos df_motos no tiene duplicados"
   ]
  },
  {
   "cell_type": "code",
   "execution_count": 9,
   "metadata": {},
   "outputs": [
    {
     "data": {
      "text/plain": [
       "victima\n",
       "SD                    10733\n",
       "MOTO                   5461\n",
       "CICLISTA               2209\n",
       "AUTO                   2033\n",
       "PEATON                 2026\n",
       "TRANSPORTE PUBLICO      678\n",
       "CAMIONETA               189\n",
       "TAXI                    182\n",
       "MOVIL                   100\n",
       "CAMION                   79\n",
       "MIXTO                    42\n",
       "MONOPATIN                28\n",
       "OTRO                     13\n",
       "UTILITARIO               12\n",
       "Name: count, dtype: int64"
      ]
     },
     "execution_count": 9,
     "metadata": {},
     "output_type": "execute_result"
    }
   ],
   "source": [
    "df_motos['victima'].value_counts()"
   ]
  },
  {
   "cell_type": "code",
   "execution_count": 11,
   "metadata": {},
   "outputs": [
    {
     "name": "stdout",
     "output_type": "stream",
     "text": [
      "<class 'pandas.core.frame.DataFrame'>\n",
      "RangeIndex: 23785 entries, 0 to 23784\n",
      "Data columns (total 27 columns):\n",
      " #   Column                 Non-Null Count  Dtype  \n",
      "---  ------                 --------------  -----  \n",
      " 0   id                     23785 non-null  object \n",
      " 1   n_victimas             23785 non-null  int64  \n",
      " 2   aaaa                   23785 non-null  int64  \n",
      " 3   mm                     23785 non-null  int64  \n",
      " 4   dd                     23785 non-null  int64  \n",
      " 5   fecha                  23785 non-null  object \n",
      " 6   hora                   23785 non-null  object \n",
      " 7   franja_hora            23780 non-null  object \n",
      " 8   direccion_normalizada  23732 non-null  object \n",
      " 9   comuna                 23616 non-null  object \n",
      " 10  tipo_calle             23785 non-null  object \n",
      " 11  otra_direccion         23785 non-null  object \n",
      " 12  calle                  12867 non-null  object \n",
      " 13  altura                 12771 non-null  float64\n",
      " 14  cruce                  9407 non-null   object \n",
      " 15  geocodificacion_CABA   23746 non-null  object \n",
      " 16  longitud               23523 non-null  object \n",
      " 17  latutid                23523 non-null  object \n",
      " 18  victima                23785 non-null  object \n",
      " 19  acusado                23785 non-null  object \n",
      " 20  participantes          23785 non-null  object \n",
      " 21  moto                   23692 non-null  object \n",
      " 22  auto                   23692 non-null  object \n",
      " 23  transporte_publico     23692 non-null  object \n",
      " 24  camion                 23692 non-null  object \n",
      " 25  ciclista               23692 non-null  object \n",
      " 26  gravedad               23785 non-null  object \n",
      "dtypes: float64(1), int64(4), object(22)\n",
      "memory usage: 4.9+ MB\n"
     ]
    }
   ],
   "source": [
    "df_motos.info()"
   ]
  },
  {
   "cell_type": "code",
   "execution_count": 20,
   "metadata": {},
   "outputs": [
    {
     "ename": "ValueError",
     "evalue": "invalid literal for int() with base 10: 'LC-2019-0000179'",
     "output_type": "error",
     "traceback": [
      "\u001b[1;31m---------------------------------------------------------------------------\u001b[0m",
      "\u001b[1;31mValueError\u001b[0m                                Traceback (most recent call last)",
      "\u001b[1;32mc:\\Users\\Cecilia\\Documents\\francisco\\henry\\proyecto_final_2b\\codigo\\diciembre_4b.ipynb Cell 13\u001b[0m line \u001b[0;36m1\n\u001b[1;32m----> <a href='vscode-notebook-cell:/c%3A/Users/Cecilia/Documents/francisco/henry/proyecto_final_2b/codigo/diciembre_4b.ipynb#X62sZmlsZQ%3D%3D?line=0'>1</a>\u001b[0m df_motos[\u001b[39m'\u001b[39m\u001b[39mid\u001b[39m\u001b[39m'\u001b[39m]\u001b[39m=\u001b[39mdf_motos[\u001b[39m'\u001b[39;49m\u001b[39mid\u001b[39;49m\u001b[39m'\u001b[39;49m]\u001b[39m.\u001b[39;49mastype(\u001b[39mint\u001b[39;49m)\n",
      "File \u001b[1;32mc:\\Users\\Cecilia\\AppData\\Local\\Programs\\Python\\Python311\\Lib\\site-packages\\pandas\\core\\generic.py:6324\u001b[0m, in \u001b[0;36mNDFrame.astype\u001b[1;34m(self, dtype, copy, errors)\u001b[0m\n\u001b[0;32m   6317\u001b[0m     results \u001b[39m=\u001b[39m [\n\u001b[0;32m   6318\u001b[0m         \u001b[39mself\u001b[39m\u001b[39m.\u001b[39miloc[:, i]\u001b[39m.\u001b[39mastype(dtype, copy\u001b[39m=\u001b[39mcopy)\n\u001b[0;32m   6319\u001b[0m         \u001b[39mfor\u001b[39;00m i \u001b[39min\u001b[39;00m \u001b[39mrange\u001b[39m(\u001b[39mlen\u001b[39m(\u001b[39mself\u001b[39m\u001b[39m.\u001b[39mcolumns))\n\u001b[0;32m   6320\u001b[0m     ]\n\u001b[0;32m   6322\u001b[0m \u001b[39melse\u001b[39;00m:\n\u001b[0;32m   6323\u001b[0m     \u001b[39m# else, only a single dtype is given\u001b[39;00m\n\u001b[1;32m-> 6324\u001b[0m     new_data \u001b[39m=\u001b[39m \u001b[39mself\u001b[39;49m\u001b[39m.\u001b[39;49m_mgr\u001b[39m.\u001b[39;49mastype(dtype\u001b[39m=\u001b[39;49mdtype, copy\u001b[39m=\u001b[39;49mcopy, errors\u001b[39m=\u001b[39;49merrors)\n\u001b[0;32m   6325\u001b[0m     \u001b[39mreturn\u001b[39;00m \u001b[39mself\u001b[39m\u001b[39m.\u001b[39m_constructor(new_data)\u001b[39m.\u001b[39m__finalize__(\u001b[39mself\u001b[39m, method\u001b[39m=\u001b[39m\u001b[39m\"\u001b[39m\u001b[39mastype\u001b[39m\u001b[39m\"\u001b[39m)\n\u001b[0;32m   6327\u001b[0m \u001b[39m# GH 33113: handle empty frame or series\u001b[39;00m\n",
      "File \u001b[1;32mc:\\Users\\Cecilia\\AppData\\Local\\Programs\\Python\\Python311\\Lib\\site-packages\\pandas\\core\\internals\\managers.py:451\u001b[0m, in \u001b[0;36mBaseBlockManager.astype\u001b[1;34m(self, dtype, copy, errors)\u001b[0m\n\u001b[0;32m    448\u001b[0m \u001b[39melif\u001b[39;00m using_copy_on_write():\n\u001b[0;32m    449\u001b[0m     copy \u001b[39m=\u001b[39m \u001b[39mFalse\u001b[39;00m\n\u001b[1;32m--> 451\u001b[0m \u001b[39mreturn\u001b[39;00m \u001b[39mself\u001b[39;49m\u001b[39m.\u001b[39;49mapply(\n\u001b[0;32m    452\u001b[0m     \u001b[39m\"\u001b[39;49m\u001b[39mastype\u001b[39;49m\u001b[39m\"\u001b[39;49m,\n\u001b[0;32m    453\u001b[0m     dtype\u001b[39m=\u001b[39;49mdtype,\n\u001b[0;32m    454\u001b[0m     copy\u001b[39m=\u001b[39;49mcopy,\n\u001b[0;32m    455\u001b[0m     errors\u001b[39m=\u001b[39;49merrors,\n\u001b[0;32m    456\u001b[0m     using_cow\u001b[39m=\u001b[39;49musing_copy_on_write(),\n\u001b[0;32m    457\u001b[0m )\n",
      "File \u001b[1;32mc:\\Users\\Cecilia\\AppData\\Local\\Programs\\Python\\Python311\\Lib\\site-packages\\pandas\\core\\internals\\managers.py:352\u001b[0m, in \u001b[0;36mBaseBlockManager.apply\u001b[1;34m(self, f, align_keys, **kwargs)\u001b[0m\n\u001b[0;32m    350\u001b[0m         applied \u001b[39m=\u001b[39m b\u001b[39m.\u001b[39mapply(f, \u001b[39m*\u001b[39m\u001b[39m*\u001b[39mkwargs)\n\u001b[0;32m    351\u001b[0m     \u001b[39melse\u001b[39;00m:\n\u001b[1;32m--> 352\u001b[0m         applied \u001b[39m=\u001b[39m \u001b[39mgetattr\u001b[39;49m(b, f)(\u001b[39m*\u001b[39;49m\u001b[39m*\u001b[39;49mkwargs)\n\u001b[0;32m    353\u001b[0m     result_blocks \u001b[39m=\u001b[39m extend_blocks(applied, result_blocks)\n\u001b[0;32m    355\u001b[0m out \u001b[39m=\u001b[39m \u001b[39mtype\u001b[39m(\u001b[39mself\u001b[39m)\u001b[39m.\u001b[39mfrom_blocks(result_blocks, \u001b[39mself\u001b[39m\u001b[39m.\u001b[39maxes)\n",
      "File \u001b[1;32mc:\\Users\\Cecilia\\AppData\\Local\\Programs\\Python\\Python311\\Lib\\site-packages\\pandas\\core\\internals\\blocks.py:511\u001b[0m, in \u001b[0;36mBlock.astype\u001b[1;34m(self, dtype, copy, errors, using_cow)\u001b[0m\n\u001b[0;32m    491\u001b[0m \u001b[39m\u001b[39m\u001b[39m\"\"\"\u001b[39;00m\n\u001b[0;32m    492\u001b[0m \u001b[39mCoerce to the new dtype.\u001b[39;00m\n\u001b[0;32m    493\u001b[0m \n\u001b[1;32m   (...)\u001b[0m\n\u001b[0;32m    507\u001b[0m \u001b[39mBlock\u001b[39;00m\n\u001b[0;32m    508\u001b[0m \u001b[39m\"\"\"\u001b[39;00m\n\u001b[0;32m    509\u001b[0m values \u001b[39m=\u001b[39m \u001b[39mself\u001b[39m\u001b[39m.\u001b[39mvalues\n\u001b[1;32m--> 511\u001b[0m new_values \u001b[39m=\u001b[39m astype_array_safe(values, dtype, copy\u001b[39m=\u001b[39;49mcopy, errors\u001b[39m=\u001b[39;49merrors)\n\u001b[0;32m    513\u001b[0m new_values \u001b[39m=\u001b[39m maybe_coerce_values(new_values)\n\u001b[0;32m    515\u001b[0m refs \u001b[39m=\u001b[39m \u001b[39mNone\u001b[39;00m\n",
      "File \u001b[1;32mc:\\Users\\Cecilia\\AppData\\Local\\Programs\\Python\\Python311\\Lib\\site-packages\\pandas\\core\\dtypes\\astype.py:242\u001b[0m, in \u001b[0;36mastype_array_safe\u001b[1;34m(values, dtype, copy, errors)\u001b[0m\n\u001b[0;32m    239\u001b[0m     dtype \u001b[39m=\u001b[39m dtype\u001b[39m.\u001b[39mnumpy_dtype\n\u001b[0;32m    241\u001b[0m \u001b[39mtry\u001b[39;00m:\n\u001b[1;32m--> 242\u001b[0m     new_values \u001b[39m=\u001b[39m astype_array(values, dtype, copy\u001b[39m=\u001b[39;49mcopy)\n\u001b[0;32m    243\u001b[0m \u001b[39mexcept\u001b[39;00m (\u001b[39mValueError\u001b[39;00m, \u001b[39mTypeError\u001b[39;00m):\n\u001b[0;32m    244\u001b[0m     \u001b[39m# e.g. _astype_nansafe can fail on object-dtype of strings\u001b[39;00m\n\u001b[0;32m    245\u001b[0m     \u001b[39m#  trying to convert to float\u001b[39;00m\n\u001b[0;32m    246\u001b[0m     \u001b[39mif\u001b[39;00m errors \u001b[39m==\u001b[39m \u001b[39m\"\u001b[39m\u001b[39mignore\u001b[39m\u001b[39m\"\u001b[39m:\n",
      "File \u001b[1;32mc:\\Users\\Cecilia\\AppData\\Local\\Programs\\Python\\Python311\\Lib\\site-packages\\pandas\\core\\dtypes\\astype.py:187\u001b[0m, in \u001b[0;36mastype_array\u001b[1;34m(values, dtype, copy)\u001b[0m\n\u001b[0;32m    184\u001b[0m     values \u001b[39m=\u001b[39m values\u001b[39m.\u001b[39mastype(dtype, copy\u001b[39m=\u001b[39mcopy)\n\u001b[0;32m    186\u001b[0m \u001b[39melse\u001b[39;00m:\n\u001b[1;32m--> 187\u001b[0m     values \u001b[39m=\u001b[39m _astype_nansafe(values, dtype, copy\u001b[39m=\u001b[39;49mcopy)\n\u001b[0;32m    189\u001b[0m \u001b[39m# in pandas we don't store numpy str dtypes, so convert to object\u001b[39;00m\n\u001b[0;32m    190\u001b[0m \u001b[39mif\u001b[39;00m \u001b[39misinstance\u001b[39m(dtype, np\u001b[39m.\u001b[39mdtype) \u001b[39mand\u001b[39;00m \u001b[39missubclass\u001b[39m(values\u001b[39m.\u001b[39mdtype\u001b[39m.\u001b[39mtype, \u001b[39mstr\u001b[39m):\n",
      "File \u001b[1;32mc:\\Users\\Cecilia\\AppData\\Local\\Programs\\Python\\Python311\\Lib\\site-packages\\pandas\\core\\dtypes\\astype.py:138\u001b[0m, in \u001b[0;36m_astype_nansafe\u001b[1;34m(arr, dtype, copy, skipna)\u001b[0m\n\u001b[0;32m    134\u001b[0m     \u001b[39mraise\u001b[39;00m \u001b[39mValueError\u001b[39;00m(msg)\n\u001b[0;32m    136\u001b[0m \u001b[39mif\u001b[39;00m copy \u001b[39mor\u001b[39;00m is_object_dtype(arr\u001b[39m.\u001b[39mdtype) \u001b[39mor\u001b[39;00m is_object_dtype(dtype):\n\u001b[0;32m    137\u001b[0m     \u001b[39m# Explicit copy, or required since NumPy can't view from / to object.\u001b[39;00m\n\u001b[1;32m--> 138\u001b[0m     \u001b[39mreturn\u001b[39;00m arr\u001b[39m.\u001b[39;49mastype(dtype, copy\u001b[39m=\u001b[39;49m\u001b[39mTrue\u001b[39;49;00m)\n\u001b[0;32m    140\u001b[0m \u001b[39mreturn\u001b[39;00m arr\u001b[39m.\u001b[39mastype(dtype, copy\u001b[39m=\u001b[39mcopy)\n",
      "\u001b[1;31mValueError\u001b[0m: invalid literal for int() with base 10: 'LC-2019-0000179'"
     ]
    }
   ],
   "source": [
    "df_motos['id']=df_motos['id'].astype(int)"
   ]
  },
  {
   "cell_type": "code",
   "execution_count": 15,
   "metadata": {},
   "outputs": [],
   "source": [
    "victims_por_ano = df_motos.groupby('aaaa')['victima'].sum()"
   ]
  },
  {
   "cell_type": "code",
   "execution_count": 19,
   "metadata": {},
   "outputs": [
    {
     "name": "stderr",
     "output_type": "stream",
     "text": [
      "<>:1: SyntaxWarning: list indices must be integers or slices, not str; perhaps you missed a comma?\n",
      "<>:1: SyntaxWarning: list indices must be integers or slices, not str; perhaps you missed a comma?\n",
      "C:\\Users\\Cecilia\\AppData\\Local\\Temp\\ipykernel_11788\\4243504698.py:1: SyntaxWarning: list indices must be integers or slices, not str; perhaps you missed a comma?\n",
      "  accidente_moto = df_motos[[df_motos]['victima']=='CICLISTA']\n"
     ]
    },
    {
     "ename": "TypeError",
     "evalue": "list indices must be integers or slices, not str",
     "output_type": "error",
     "traceback": [
      "\u001b[1;31m---------------------------------------------------------------------------\u001b[0m",
      "\u001b[1;31mTypeError\u001b[0m                                 Traceback (most recent call last)",
      "\u001b[1;32mc:\\Users\\Cecilia\\Documents\\francisco\\henry\\proyecto_final_2b\\codigo\\diciembre_4b.ipynb Cell 14\u001b[0m line \u001b[0;36m1\n\u001b[1;32m----> <a href='vscode-notebook-cell:/c%3A/Users/Cecilia/Documents/francisco/henry/proyecto_final_2b/codigo/diciembre_4b.ipynb#X61sZmlsZQ%3D%3D?line=0'>1</a>\u001b[0m accidente_moto \u001b[39m=\u001b[39m df_motos[[df_motos][\u001b[39m'\u001b[39;49m\u001b[39mvictima\u001b[39;49m\u001b[39m'\u001b[39;49m]\u001b[39m==\u001b[39m\u001b[39m'\u001b[39m\u001b[39mCICLISTA\u001b[39m\u001b[39m'\u001b[39m]\n",
      "\u001b[1;31mTypeError\u001b[0m: list indices must be integers or slices, not str"
     ]
    }
   ],
   "source": [
    "accidente_moto = df_motos[[df_motos]['victima']=='CICLISTA']"
   ]
  },
  {
   "cell_type": "code",
   "execution_count": 16,
   "metadata": {},
   "outputs": [
    {
     "name": "stdout",
     "output_type": "stream",
     "text": [
      "aaaa\n",
      "2019    CICLISTAAUTOSDPEATONAUTOMOTOMOTOAUTOMOTOAUTOAU...\n",
      "2020    CICLISTACICLISTACICLISTACICLISTACICLISTACICLIS...\n",
      "2021    CICLISTACICLISTACICLISTACICLISTACICLISTACICLIS...\n",
      "Name: victima, dtype: object\n"
     ]
    }
   ],
   "source": [
    "print(victims_por_ano)"
   ]
  },
  {
   "cell_type": "code",
   "execution_count": 11,
   "metadata": {},
   "outputs": [
    {
     "name": "stdout",
     "output_type": "stream",
     "text": [
      "AAAA\n",
      "2016    146\n",
      "2017    140\n",
      "2018    149\n",
      "2019    104\n",
      "2020     81\n",
      "2021     97\n",
      "Name: N_VICTIMAS, dtype: int64\n"
     ]
    }
   ],
   "source": [
    "print(victims_por_ano)"
   ]
  },
  {
   "cell_type": "markdown",
   "metadata": {},
   "source": [
    "<span style = 'font_size:16pt;'>Es mejor tener el número de muertos por cada 100.000 habitantes </span>"
   ]
  },
  {
   "cell_type": "code",
   "execution_count": 32,
   "metadata": {},
   "outputs": [
    {
     "name": "stdout",
     "output_type": "stream",
     "text": [
      "   anio por_cada_cien_mil\n",
      "0  2016              12.8\n",
      "1  2017              12.7\n",
      "2  2018              12.3\n",
      "3  2019              10.9\n",
      "4  2020               7.3\n",
      "5  2021               8.4\n",
      "6  2022             10.52\n"
     ]
    }
   ],
   "source": [
    "data_array = np.array([[ '2016', 12.8],\n",
    "                       [ '2017', 12.7],\n",
    "                       [ '2018', 12.3],['2019',10.9],['2020',7.3],['2021',8.4],['2022',10.52]])\n",
    "\n",
    "# Crear un DataFrame a partir del array\n",
    "df_por_cien_mil = pd.DataFrame(data_array, columns=[ 'anio', 'por_cada_cien_mil'])\n",
    "print (df_por_cien_mil)"
   ]
  },
  {
   "cell_type": "code",
   "execution_count": 33,
   "metadata": {},
   "outputs": [
    {
     "data": {
      "image/png": "[encoded data removed]",
      "text/plain": [
       "<Figure size 1000x600 with 1 Axes>"
      ]
     },
     "metadata": {},
     "output_type": "display_data"
    }
   ],
   "source": [
    "data = {'Anio': [2016, 2017, 2018, 2019, 2020, 2021, 2022],\n",
    "        'PorCadaCienMil': [12.8, 12.7, 12.3, 10.9, 7.3, 8.4, 10.52]}\n",
    "\n",
    "# Crear un DataFrame\n",
    "df = pd.DataFrame(data)\n",
    "\n",
    "# Configurar el estilo de Seaborn\n",
    "sns.set(style=\"whitegrid\")\n",
    "\n",
    "# Crear el gráfico de regresión\n",
    "plt.figure(figsize=(10, 6))\n",
    "scatterplot = sns.regplot(x='Anio', y='PorCadaCienMil', data=df, scatter_kws={'s': 100}, ci=None, line_kws={'color': 'red'})\n",
    "\n",
    "# Añadir etiquetas y título\n",
    "plt.xlabel('Año')\n",
    "plt.ylabel('Por cada cien mil')\n",
    "plt.title('Regresión lineal de la tasa por cada cien mil habitantes por año')\n",
    "\n",
    "# Mostrar el gráfico\n",
    "plt.show()"
   ]
  },
  {
   "cell_type": "markdown",
   "metadata": {},
   "source": [
    "El gráfico nos muestra una tendencia decreciente en el número de muertos por cada cien mil habitantes que se acentúa en los años 2020 y 2021 debido\n",
    "a la pandemia pero que se vuelve a retomar en el  2022.</span>"
   ]
  },
  {
   "cell_type": "code",
   "execution_count": 36,
   "metadata": {},
   "outputs": [],
   "source": [
    "victims_por_comuna = df_hechos.groupby('COMUNA')['N_VICTIMAS'].sum()"
   ]
  },
  {
   "cell_type": "code",
   "execution_count": 37,
   "metadata": {},
   "outputs": [
    {
     "data": {
      "text/plain": [
       "COMUNA\n",
       "0      2\n",
       "1     93\n",
       "2     25\n",
       "3     46\n",
       "4     79\n",
       "5     22\n",
       "6     22\n",
       "7     62\n",
       "8     67\n",
       "9     75\n",
       "10    30\n",
       "11    33\n",
       "12    39\n",
       "13    40\n",
       "14    37\n",
       "15    45\n",
       "Name: N_VICTIMAS, dtype: int64"
      ]
     },
     "execution_count": 37,
     "metadata": {},
     "output_type": "execute_result"
    }
   ],
   "source": [
    "victims_por_comuna"
   ]
  },
  {
   "cell_type": "code",
   "execution_count": 39,
   "metadata": {},
   "outputs": [
    {
     "data": {
      "image/png": "[encoded data removed]",
      "text/plain": [
       "<Figure size 1000x600 with 1 Axes>"
      ]
     },
     "metadata": {},
     "output_type": "display_data"
    }
   ],
   "source": [
    "comunas = list(range(1, 17))\n",
    "victimas_por_comuna = [2, 93, 25, 46, 79, 22, 22, 62, 67, 75, 30, 33, 39, 40, 37, 45]\n",
    "\n",
    "# Configurar el estilo de Seaborn\n",
    "sns.set(style=\"whitegrid\")\n",
    "\n",
    "# Crear el gráfico de barras\n",
    "plt.figure(figsize=(10, 6))\n",
    "barplot = sns.barplot(x=comunas, y=victimas_por_comuna, color='skyblue')\n",
    "\n",
    "# Añadir etiquetas y título\n",
    "plt.xlabel('Número de Comuna')\n",
    "plt.ylabel('Número de Víctimas')\n",
    "plt.title('Número de Víctimas por Accidentes de Tránsito en Comunas de Buenos Aires')\n",
    "\n",
    "# Mostrar el gráfico\n",
    "plt.show()"
   ]
  },
  {
   "cell_type": "markdown",
   "metadata": {},
   "source": [
    "Tratemos de encontrar algún punto en común entra las comunas 2,5,10 que las hace tan proclives a este tipo de accidente. </span>"
   ]
  },
  {
   "cell_type": "code",
   "execution_count": 7,
   "metadata": {},
   "outputs": [],
   "source": [
    "df_hechos_recoleta = df_hechos[df_hechos['COMUNA']==2]"
   ]
  },
  {
   "cell_type": "code",
   "execution_count": 8,
   "metadata": {},
   "outputs": [
    {
     "name": "stdout",
     "output_type": "stream",
     "text": [
      "            ID  N_VICTIMAS      FECHA  AAAA  MM  DD      HORA  HH  \\\n",
      "48   2016-0068           1 2016-05-22  2016   5  22  22:00:00  22   \n",
      "154  2017-0015           1 2017-02-02  2017   2   2  15:18:03  15   \n",
      "189  2017-0061           1 2017-05-15  2017   5  15  13:29:30  13   \n",
      "203  2017-0076           1 2017-06-13  2017   6  13  14:50:00  14   \n",
      "209  2017-0084           1 2017-07-05  2017   7   5  12:49:00  12   \n",
      "236  2017-0114           1 2017-09-15  2017   9  15  02:30:00   2   \n",
      "245  2017-0127           1 2017-10-16  2017  10  16  07:45:00   7   \n",
      "285  2018-0011           1 2018-01-19  2018   1  19  10:30:00  10   \n",
      "293  2018-0019           1 2018-02-17  2018   2  17  12:30:00  12   \n",
      "308  2018-0034           1 2018-04-11  2018   4  11  18:15:00  18   \n",
      "311  2018-0037           1 2018-04-18  2018   4  18  18:45:00  18   \n",
      "343  2018-0069           1 2018-07-04  2018   7   4  21:45:00  21   \n",
      "352  2018-0078           1 2018-07-21  2018   7  21  06:15:00   6   \n",
      "406  2018-0132           1 2018-12-12  2018  12  12  08:26:00   8   \n",
      "418  2019-0001           1 2019-01-08  2019   1   8  08:30:00   8   \n",
      "444  2019-0027           1 2019-03-28  2019   3  28  11:11:00  11   \n",
      "528  2020-0008           1 2020-01-30  2020   1  30  07:10:00   7   \n",
      "541  2020-0021           1 2020-03-14  2020   3  14  16:50:00  16   \n",
      "560  2020-0040           1 2020-09-12  2020   9  12  03:30:00   3   \n",
      "587  2020-0068           1 2020-12-12  2020  12  12  20:30:00  20   \n",
      "589  2020-0070           1 2020-12-17  2020  12  17  15:35:00  15   \n",
      "609  2021-0011           1 2021-01-27  2021   1  27  01:04:26   1   \n",
      "655  2021-0057           1 2021-07-10  2021   7  10  23:30:00  23   \n",
      "670  2021-0072           1 2021-09-01  2021   9   1  19:10:00  19   \n",
      "671  2021-0073           1 2021-09-18  2021   9  18  12:20:00  12   \n",
      "\n",
      "                              LUGAR_DEL_HECHO TIPO_DE_CALLE  ...  Altura  \\\n",
      "48        AV FIGUEROA ALCORTA Y AV PUEYRREDON       AVENIDA  ...     NaN   \n",
      "154                      CORDOBA AV. Y CALLAO       AVENIDA  ...     NaN   \n",
      "189                    PARAGUAY Y AV. CALLAO        AVENIDA  ...     NaN   \n",
      "203             AV. RAMON CASTILLO Y CALLE 12       AVENIDA  ...     NaN   \n",
      "209       AV. DEL LIBERTADOR Y RODRIGUEZ PEÑA       AVENIDA  ...     NaN   \n",
      "236           AV. ALVEAR Y AV. DEL LIBERTADOR       AVENIDA  ...     NaN   \n",
      "245                       GALLO Y AV. CORDOBA       AVENIDA  ...     NaN   \n",
      "285                       Callao y Vte. Lopez       AVENIDA  ...     NaN   \n",
      "293        Las Heras General Av. y Callao Av.       AVENIDA  ...     NaN   \n",
      "308                         Santa Fe Av. 2320       AVENIDA  ...  2320.0   \n",
      "311      Cordoba Av. y Uriburu Jose E., Pres.       AVENIDA  ...     NaN   \n",
      "343                      Córdoba Av. 2215\\n\\n       AVENIDA  ...  2215.0   \n",
      "352          Paraguay y Sánchez De Bustamante         CALLE  ...     NaN   \n",
      "406      AU Arturo Illia y Castillo, Ramon S.     AUTOPISTA  ...     NaN   \n",
      "418  CASTILLO, RAMON S., PRES. AV. Y CALLE 12       AVENIDA  ...     NaN   \n",
      "444                  SANTA FE AV. Y AZCUENAGA       AVENIDA  ...     NaN   \n",
      "528                 CORDOBA AV. Y JEAN JAURES       AVENIDA  ...     NaN   \n",
      "541                         BRAVO, MARIO 1279         CALLE  ...  1279.0   \n",
      "560  CASTILLO, RAMON S., PRES. AV. Y CALLE 12       AVENIDA  ...     NaN   \n",
      "587              DEL LIBERTADOR AV. Y AUSTRIA       AVENIDA  ...     NaN   \n",
      "589           CALLAO AV. Y LAS HERAS, GENERAL       AVENIDA  ...     NaN   \n",
      "609                         SANTA FE AV. 1675       AVENIDA  ...  1675.0   \n",
      "655  AU ILLIA KM 3.2, ALTURA CABINAS DE PEAJE     AUTOPISTA  ...     NaN   \n",
      "670                     CALLAO AV. Y PARAGUAY       AVENIDA  ...     NaN   \n",
      "671      DEL LIBERTADOR AV. Y AGOTE, LUIS DR.       AVENIDA  ...     NaN   \n",
      "\n",
      "                             Cruce  \\\n",
      "48                  PUEYRREDON AV.   \n",
      "154                     CALLAO AV.   \n",
      "189                     CALLAO AV.   \n",
      "203          CALLE 12 (NO OFICIAL)   \n",
      "209                 RODRIGUEZ PE?A   \n",
      "236             DEL LIBERTADOR AV.   \n",
      "245                    CORDOBA AV.   \n",
      "285                 LOPEZ, VICENTE   \n",
      "293                     CALLAO AV.   \n",
      "308                            NaN   \n",
      "311         URIBURU JOSE E., PRES.   \n",
      "343                            NaN   \n",
      "352          SANCHEZ DE BUSTAMANTE   \n",
      "406  CASTILLO, RAMON S., PRES. AV.   \n",
      "418          CALLE 12 (NO OFICIAL)   \n",
      "444                      AZCUENAGA   \n",
      "528                   JAURES, JEAN   \n",
      "541                            NaN   \n",
      "560          CALLE 12 (NO OFICIAL)   \n",
      "587                        AUSTRIA   \n",
      "589             LAS HERAS, GENERAL   \n",
      "609                            NaN   \n",
      "655                            NaN   \n",
      "670                       PARAGUAY   \n",
      "671                AGOTE, LUIS DR.   \n",
      "\n",
      "                                 Dirección Normalizada COMUNA  \\\n",
      "48        FIGUEROA ALCORTA, PRES. AV. y PUEYRREDON AV.      2   \n",
      "154                           CORDOBA AV. y CALLAO AV.      2   \n",
      "189                              PARAGUAY y CALLAO AV.      2   \n",
      "203  CASTILLO, RAMON S., PRES. AV. y CALLE 12 (NO O...      2   \n",
      "209               DEL LIBERTADOR AV. y RODRIGUEZ PEÃ‘A      2   \n",
      "236                    ALVEAR AV. y DEL LIBERTADOR AV.      2   \n",
      "245                                GALLO y CORDOBA AV.      2   \n",
      "285                        CALLAO AV. y LOPEZ, VICENTE      2   \n",
      "293                 LAS HERAS GENERAL AV. y CALLAO AV.      2   \n",
      "308                                  SANTA FE AV. 2320      2   \n",
      "311               CORDOBA AV. y URIBURU JOSE E., PRES.      2   \n",
      "343                                   CORDOBA AV. 2215      2   \n",
      "352                   PARAGUAY y SANCHEZ DE BUSTAMANTE      2   \n",
      "406  AUTOPISTA ARTURO ILLIA y CASTILLO, RAMON S., P...      2   \n",
      "418  CASTILLO, RAMON S., PRES. AV. y CALLE 12 (NO O...      2   \n",
      "444                           SANTA FE AV. y AZCUENAGA      2   \n",
      "528                         CORDOBA AV. y JAURES, JEAN      2   \n",
      "541                                  BRAVO, MARIO 1279      2   \n",
      "560  CASTILLO, RAMON S., PRES. AV. y CALLE 12 (NO O...      2   \n",
      "587                       DEL LIBERTADOR AV. y AUSTRIA      2   \n",
      "589                    CALLAO AV. y LAS HERAS, GENERAL      2   \n",
      "609                                  SANTA FE AV. 1675      2   \n",
      "655          AUTOPISTA  ARTURO ILLIA (CABINA DE PEAJE)      2   \n",
      "670                              CALLAO AV. y PARAGUAY      2   \n",
      "671               DEL LIBERTADOR AV. y AGOTE, LUIS DR.      2   \n",
      "\n",
      "                                   XY (CABA)         pos x         pos y  \\\n",
      "48   Point (106673.12856878 104998.99234220)  -58.39056593  -34.58418569   \n",
      "154  Point (106454.66355436 103285.14730222)  -58.39293417  -34.59963642   \n",
      "189  Point (106445.10866138 103387.80115442)  -58.39303911  -34.59871111   \n",
      "203  Point (107160.34141948 105678.38284277)  -58.38526125  -34.57805810   \n",
      "209  Point (107180.90591568 104682.54945160)  -58.38502878  -34.58703485   \n",
      "236  Point (106632.70892338 104910.17381357)  -58.39100580  -34.58498660   \n",
      "245  Point (104713.04838502 103467.44528033)  -58.41192137  -34.59800248   \n",
      "285  Point (106639.47032605 104255.89970551)  -58.39092703  -34.59088447   \n",
      "293  Point (106550.65433457 104158.41702434)  -58.39189441  -34.59176378   \n",
      "308  Point (105786.93203839 103775.29320399)  -58.40021675  -34.59522198   \n",
      "311  Point (105923.35790409 103271.83194351)  -58.39872610  -34.59975962   \n",
      "343  Point (105900.94104333 103295.18325601)  -58.39897064  -34.59954925   \n",
      "352  Point (104647.18963470 103830.17880585)  -58.41264127  -34.59473294   \n",
      "406  Point (106275.90279188 106304.98623165)  -58.39490504  -34.57241534   \n",
      "418  Point (107160.34141948 105678.38284277)  -58.38526125  -34.57805810   \n",
      "444  Point (105815.73438780 103786.90549585)  -58.39990285  -34.59511714   \n",
      "528  Point (105198.52795163 103462.44828321)  -58.40662899  -34.59804521   \n",
      "541  Point (104475.21054309 103813.59469342)  -58.41451590  -34.59488319   \n",
      "560  Point (107160.34141948 105678.38284277)  -58.38526125  -34.57805810   \n",
      "587  Point (106054.02111991 105122.19678820)  -58.39731474  -34.58307887   \n",
      "589  Point (106550.65433457 104158.41702434)  -58.39189441  -34.59176378   \n",
      "609  Point (106591.90146932 103727.42053338)  -58.39144148  -34.59564871   \n",
      "655  Point (106489.89755339 105947.16700228)  -58.39257023  -34.57563957   \n",
      "670  Point (106445.10866138 103387.80115442)  -58.39303911  -34.59871111   \n",
      "671   Point (106366.2976627 105013.87298990)  -58.39391034  -34.58405348   \n",
      "\n",
      "           PARTICIPANTES    VICTIMA      ACUSADO  \n",
      "48        MOTO-PASAJEROS       MOTO    PASAJEROS  \n",
      "154          PEATON-AUTO     PEATON         AUTO  \n",
      "189          PEATON-MOTO     PEATON         MOTO  \n",
      "203        PEATON-CARGAS     PEATON       CARGAS  \n",
      "209     PEATON-PASAJEROS     PEATON    PASAJEROS  \n",
      "236     AUTO-OBJETO FIJO       AUTO  OBJETO FIJO  \n",
      "245            MOTO-MOTO       MOTO         MOTO  \n",
      "285     PEATON-PASAJEROS     PEATON    PASAJEROS  \n",
      "293     PEATON-PASAJEROS     PEATON    PASAJEROS  \n",
      "308     PEATON-PASAJEROS     PEATON    PASAJEROS  \n",
      "311        PEATON-CARGAS     PEATON       CARGAS  \n",
      "343  BICICLETA-PASAJEROS  BICICLETA    PASAJEROS  \n",
      "352          PEATON-AUTO     PEATON         AUTO  \n",
      "406        PEATON-CARGAS     PEATON       CARGAS  \n",
      "418          MOTO-CARGAS       MOTO       CARGAS  \n",
      "444             MULTIPLE  BICICLETA     MULTIPLE  \n",
      "528          MOTO-CARGAS       MOTO       CARGAS  \n",
      "541          PEATON-AUTO     PEATON         AUTO  \n",
      "560     AUTO-OBJETO FIJO       AUTO  OBJETO FIJO  \n",
      "587            MOTO-AUTO       MOTO         AUTO  \n",
      "589     PEATON-PASAJEROS     PEATON    PASAJEROS  \n",
      "609          PEATON-AUTO     PEATON         AUTO  \n",
      "655     AUTO-OBJETO FIJO       AUTO  OBJETO FIJO  \n",
      "670          PEATON-AUTO     PEATON         AUTO  \n",
      "671       BICICLETA-AUTO  BICICLETA         AUTO  \n",
      "\n",
      "[25 rows x 21 columns]\n"
     ]
    }
   ],
   "source": [
    "print(df_hechos_recoleta)"
   ]
  },
  {
   "cell_type": "code",
   "execution_count": 11,
   "metadata": {},
   "outputs": [],
   "source": [
    "df_hechos_recoleta = df_hechos_recoleta[['N_VICTIMAS','AAAA','HH','VICTIMA']]"
   ]
  },
  {
   "cell_type": "code",
   "execution_count": 12,
   "metadata": {},
   "outputs": [
    {
     "data": {
      "text/html": [
       "<div>\n",
       "<style scoped>\n",
       "    .dataframe tbody tr th:only-of-type {\n",
       "        vertical-align: middle;\n",
       "    }\n",
       "\n",
       "    .dataframe tbody tr th {\n",
       "        vertical-align: top;\n",
       "    }\n",
       "\n",
       "    .dataframe thead th {\n",
       "        text-align: right;\n",
       "    }\n",
       "</style>\n",
       "<table border=\"1\" class=\"dataframe\">\n",
       "  <thead>\n",
       "    <tr style=\"text-align: right;\">\n",
       "      <th></th>\n",
       "      <th>N_VICTIMAS</th>\n",
       "      <th>AAAA</th>\n",
       "      <th>HH</th>\n",
       "      <th>VICTIMA</th>\n",
       "    </tr>\n",
       "  </thead>\n",
       "  <tbody>\n",
       "    <tr>\n",
       "      <th>48</th>\n",
       "      <td>1</td>\n",
       "      <td>2016</td>\n",
       "      <td>22</td>\n",
       "      <td>MOTO</td>\n",
       "    </tr>\n",
       "    <tr>\n",
       "      <th>154</th>\n",
       "      <td>1</td>\n",
       "      <td>2017</td>\n",
       "      <td>15</td>\n",
       "      <td>PEATON</td>\n",
       "    </tr>\n",
       "    <tr>\n",
       "      <th>189</th>\n",
       "      <td>1</td>\n",
       "      <td>2017</td>\n",
       "      <td>13</td>\n",
       "      <td>PEATON</td>\n",
       "    </tr>\n",
       "    <tr>\n",
       "      <th>203</th>\n",
       "      <td>1</td>\n",
       "      <td>2017</td>\n",
       "      <td>14</td>\n",
       "      <td>PEATON</td>\n",
       "    </tr>\n",
       "    <tr>\n",
       "      <th>209</th>\n",
       "      <td>1</td>\n",
       "      <td>2017</td>\n",
       "      <td>12</td>\n",
       "      <td>PEATON</td>\n",
       "    </tr>\n",
       "    <tr>\n",
       "      <th>236</th>\n",
       "      <td>1</td>\n",
       "      <td>2017</td>\n",
       "      <td>2</td>\n",
       "      <td>AUTO</td>\n",
       "    </tr>\n",
       "    <tr>\n",
       "      <th>245</th>\n",
       "      <td>1</td>\n",
       "      <td>2017</td>\n",
       "      <td>7</td>\n",
       "      <td>MOTO</td>\n",
       "    </tr>\n",
       "    <tr>\n",
       "      <th>285</th>\n",
       "      <td>1</td>\n",
       "      <td>2018</td>\n",
       "      <td>10</td>\n",
       "      <td>PEATON</td>\n",
       "    </tr>\n",
       "    <tr>\n",
       "      <th>293</th>\n",
       "      <td>1</td>\n",
       "      <td>2018</td>\n",
       "      <td>12</td>\n",
       "      <td>PEATON</td>\n",
       "    </tr>\n",
       "    <tr>\n",
       "      <th>308</th>\n",
       "      <td>1</td>\n",
       "      <td>2018</td>\n",
       "      <td>18</td>\n",
       "      <td>PEATON</td>\n",
       "    </tr>\n",
       "    <tr>\n",
       "      <th>311</th>\n",
       "      <td>1</td>\n",
       "      <td>2018</td>\n",
       "      <td>18</td>\n",
       "      <td>PEATON</td>\n",
       "    </tr>\n",
       "    <tr>\n",
       "      <th>343</th>\n",
       "      <td>1</td>\n",
       "      <td>2018</td>\n",
       "      <td>21</td>\n",
       "      <td>BICICLETA</td>\n",
       "    </tr>\n",
       "    <tr>\n",
       "      <th>352</th>\n",
       "      <td>1</td>\n",
       "      <td>2018</td>\n",
       "      <td>6</td>\n",
       "      <td>PEATON</td>\n",
       "    </tr>\n",
       "    <tr>\n",
       "      <th>406</th>\n",
       "      <td>1</td>\n",
       "      <td>2018</td>\n",
       "      <td>8</td>\n",
       "      <td>PEATON</td>\n",
       "    </tr>\n",
       "    <tr>\n",
       "      <th>418</th>\n",
       "      <td>1</td>\n",
       "      <td>2019</td>\n",
       "      <td>8</td>\n",
       "      <td>MOTO</td>\n",
       "    </tr>\n",
       "    <tr>\n",
       "      <th>444</th>\n",
       "      <td>1</td>\n",
       "      <td>2019</td>\n",
       "      <td>11</td>\n",
       "      <td>BICICLETA</td>\n",
       "    </tr>\n",
       "    <tr>\n",
       "      <th>528</th>\n",
       "      <td>1</td>\n",
       "      <td>2020</td>\n",
       "      <td>7</td>\n",
       "      <td>MOTO</td>\n",
       "    </tr>\n",
       "    <tr>\n",
       "      <th>541</th>\n",
       "      <td>1</td>\n",
       "      <td>2020</td>\n",
       "      <td>16</td>\n",
       "      <td>PEATON</td>\n",
       "    </tr>\n",
       "    <tr>\n",
       "      <th>560</th>\n",
       "      <td>1</td>\n",
       "      <td>2020</td>\n",
       "      <td>3</td>\n",
       "      <td>AUTO</td>\n",
       "    </tr>\n",
       "    <tr>\n",
       "      <th>587</th>\n",
       "      <td>1</td>\n",
       "      <td>2020</td>\n",
       "      <td>20</td>\n",
       "      <td>MOTO</td>\n",
       "    </tr>\n",
       "    <tr>\n",
       "      <th>589</th>\n",
       "      <td>1</td>\n",
       "      <td>2020</td>\n",
       "      <td>15</td>\n",
       "      <td>PEATON</td>\n",
       "    </tr>\n",
       "    <tr>\n",
       "      <th>609</th>\n",
       "      <td>1</td>\n",
       "      <td>2021</td>\n",
       "      <td>1</td>\n",
       "      <td>PEATON</td>\n",
       "    </tr>\n",
       "    <tr>\n",
       "      <th>655</th>\n",
       "      <td>1</td>\n",
       "      <td>2021</td>\n",
       "      <td>23</td>\n",
       "      <td>AUTO</td>\n",
       "    </tr>\n",
       "    <tr>\n",
       "      <th>670</th>\n",
       "      <td>1</td>\n",
       "      <td>2021</td>\n",
       "      <td>19</td>\n",
       "      <td>PEATON</td>\n",
       "    </tr>\n",
       "    <tr>\n",
       "      <th>671</th>\n",
       "      <td>1</td>\n",
       "      <td>2021</td>\n",
       "      <td>12</td>\n",
       "      <td>BICICLETA</td>\n",
       "    </tr>\n",
       "  </tbody>\n",
       "</table>\n",
       "</div>"
      ],
      "text/plain": [
       "     N_VICTIMAS  AAAA  HH    VICTIMA\n",
       "48            1  2016  22       MOTO\n",
       "154           1  2017  15     PEATON\n",
       "189           1  2017  13     PEATON\n",
       "203           1  2017  14     PEATON\n",
       "209           1  2017  12     PEATON\n",
       "236           1  2017   2       AUTO\n",
       "245           1  2017   7       MOTO\n",
       "285           1  2018  10     PEATON\n",
       "293           1  2018  12     PEATON\n",
       "308           1  2018  18     PEATON\n",
       "311           1  2018  18     PEATON\n",
       "343           1  2018  21  BICICLETA\n",
       "352           1  2018   6     PEATON\n",
       "406           1  2018   8     PEATON\n",
       "418           1  2019   8       MOTO\n",
       "444           1  2019  11  BICICLETA\n",
       "528           1  2020   7       MOTO\n",
       "541           1  2020  16     PEATON\n",
       "560           1  2020   3       AUTO\n",
       "587           1  2020  20       MOTO\n",
       "589           1  2020  15     PEATON\n",
       "609           1  2021   1     PEATON\n",
       "655           1  2021  23       AUTO\n",
       "670           1  2021  19     PEATON\n",
       "671           1  2021  12  BICICLETA"
      ]
     },
     "execution_count": 12,
     "metadata": {},
     "output_type": "execute_result"
    }
   ],
   "source": [
    "df_hechos_recoleta"
   ]
  },
  {
   "cell_type": "code",
   "execution_count": 16,
   "metadata": {},
   "outputs": [
    {
     "data": {
      "text/plain": [
       "12.52"
      ]
     },
     "execution_count": 16,
     "metadata": {},
     "output_type": "execute_result"
    }
   ],
   "source": [
    "df_hechos_recoleta['HH'].mean()"
   ]
  },
  {
   "cell_type": "code",
   "execution_count": 17,
   "metadata": {},
   "outputs": [
    {
     "data": {
      "text/plain": [
       "(25, 4)"
      ]
     },
     "execution_count": 17,
     "metadata": {},
     "output_type": "execute_result"
    }
   ],
   "source": [
    "df_hechos_recoleta.shape"
   ]
  },
  {
   "cell_type": "code",
   "execution_count": 15,
   "metadata": {},
   "outputs": [
    {
     "data": {
      "text/plain": [
       "VICTIMA\n",
       "PEATON       14\n",
       "MOTO          5\n",
       "AUTO          3\n",
       "BICICLETA     3\n",
       "Name: count, dtype: int64"
      ]
     },
     "execution_count": 15,
     "metadata": {},
     "output_type": "execute_result"
    }
   ],
   "source": [
    "df_hechos_recoleta['VICTIMA'].value_counts()"
   ]
  },
  {
   "cell_type": "code",
   "execution_count": 18,
   "metadata": {},
   "outputs": [],
   "source": [
    "df_hechos_almagro = df_hechos[df_hechos['COMUNA']==5]"
   ]
  },
  {
   "cell_type": "code",
   "execution_count": 19,
   "metadata": {},
   "outputs": [
    {
     "data": {
      "text/plain": [
       "(22, 21)"
      ]
     },
     "execution_count": 19,
     "metadata": {},
     "output_type": "execute_result"
    }
   ],
   "source": [
    "df_hechos_almagro.shape"
   ]
  },
  {
   "cell_type": "code",
   "execution_count": 21,
   "metadata": {},
   "outputs": [],
   "source": [
    "df_hechos_almagro=df_hechos_almagro[['N_VICTIMAS','AAAA','HH','VICTIMA']]"
   ]
  },
  {
   "cell_type": "code",
   "execution_count": 24,
   "metadata": {},
   "outputs": [
    {
     "data": {
      "text/plain": [
       "VICTIMA\n",
       "PEATON    12\n",
       "MOTO       9\n",
       "AUTO       1\n",
       "Name: count, dtype: int64"
      ]
     },
     "execution_count": 24,
     "metadata": {},
     "output_type": "execute_result"
    }
   ],
   "source": [
    "df_hechos_almagro['VICTIMA'].value_counts()"
   ]
  },
  {
   "cell_type": "code",
   "execution_count": 25,
   "metadata": {},
   "outputs": [
    {
     "data": {
      "text/plain": [
       "14.681818181818182"
      ]
     },
     "execution_count": 25,
     "metadata": {},
     "output_type": "execute_result"
    }
   ],
   "source": [
    "df_hechos_almagro['HH'].mean()"
   ]
  },
  {
   "cell_type": "code",
   "execution_count": 27,
   "metadata": {},
   "outputs": [],
   "source": [
    "df_hechos_floresta = df_hechos[df_hechos['COMUNA']==10]"
   ]
  },
  {
   "cell_type": "code",
   "execution_count": 28,
   "metadata": {},
   "outputs": [],
   "source": [
    "df_hechos_floresta = df_hechos_floresta[['N_VICTIMAS','AAAA','HH','VICTIMA']]"
   ]
  },
  {
   "cell_type": "code",
   "execution_count": 30,
   "metadata": {},
   "outputs": [
    {
     "data": {
      "text/plain": [
       "(29, 4)"
      ]
     },
     "execution_count": 30,
     "metadata": {},
     "output_type": "execute_result"
    }
   ],
   "source": [
    "df_hechos_floresta.shape"
   ]
  },
  {
   "cell_type": "code",
   "execution_count": 31,
   "metadata": {},
   "outputs": [
    {
     "data": {
      "text/plain": [
       "11.206896551724139"
      ]
     },
     "execution_count": 31,
     "metadata": {},
     "output_type": "execute_result"
    }
   ],
   "source": [
    "df_hechos_floresta['HH'].mean()"
   ]
  },
  {
   "cell_type": "code",
   "execution_count": 32,
   "metadata": {},
   "outputs": [
    {
     "data": {
      "text/plain": [
       "VICTIMA\n",
       "MOTO         16\n",
       "PEATON        7\n",
       "AUTO          3\n",
       "BICICLETA     2\n",
       "PASAJEROS     1\n",
       "Name: count, dtype: int64"
      ]
     },
     "execution_count": 32,
     "metadata": {},
     "output_type": "execute_result"
    }
   ],
   "source": [
    "df_hechos_floresta['VICTIMA'].value_counts()"
   ]
  },
  {
   "cell_type": "code",
   "execution_count": 35,
   "metadata": {},
   "outputs": [
    {
     "name": "stdout",
     "output_type": "stream",
     "text": [
      "Ecuación de la recta de regresión: y = -0.73x + 1484.57\n"
     ]
    },
    {
     "data": {
      "image/png": "[encoded data removed]",
      "text/plain": [
       "<Figure size 640x480 with 1 Axes>"
      ]
     },
     "metadata": {},
     "output_type": "display_data"
    }
   ],
   "source": [
    "\n",
    "from sklearn.linear_model import LinearRegression\n",
    "\n",
    "\n",
    "# Supongamos que tienes un DataFrame con columnas 'años' y 'victimas'\n",
    "# Reemplaza esto con tus datos reales\n",
    "\n",
    "\n",
    "df = pd.DataFrame(data)\n",
    "\n",
    "# Prepara los datos para la regresión\n",
    "X = df[['Anio']]  # Variables independientes (años)\n",
    "y = df['PorCadaCienMil']  # Variable dependiente (víctimas)\n",
    "\n",
    "# Inicializa el modelo de regresión lineal\n",
    "modelo_regresion = LinearRegression()\n",
    "\n",
    "# Ajusta el modelo a los datos\n",
    "modelo_regresion.fit(X, y)\n",
    "\n",
    "# Obtiene los coeficientes de la recta de regresión\n",
    "pendiente = modelo_regresion.coef_[0]\n",
    "intercepto = modelo_regresion.intercept_\n",
    "\n",
    "# Imprime la ecuación de la recta de regresión\n",
    "print(f\"Ecuación de la recta de regresión: y = {pendiente:.2f}x + {intercepto:.2f}\")\n",
    "\n",
    "# Realiza predicciones usando el modelo\n",
    "predicciones = modelo_regresion.predict(X)\n",
    "\n",
    "# Grafica los datos y la recta de regresión\n",
    "plt.scatter(X, y, label='Datos reales')\n",
    "plt.plot(X, predicciones, color='red', label='Recta de regresión')\n",
    "plt.xlabel('Años')\n",
    "plt.ylabel('Víctimas por año')\n",
    "plt.legend()\n",
    "plt.show()"
   ]
  }
 ],
 "metadata": {
  "kernelspec": {
   "display_name": "Python 3",
   "language": "python",
   "name": "python3"
  },
  "language_info": {
   "codemirror_mode": {
    "name": "ipython",
    "version": 3
   },
   "file_extension": ".py",
   "mimetype": "text/x-python",
   "name": "python",
   "nbconvert_exporter": "python",
   "pygments_lexer": "ipython3",
   "version": "3.11.2"
  }
 },
 "nbformat": 4,
 "nbformat_minor": 2
}
