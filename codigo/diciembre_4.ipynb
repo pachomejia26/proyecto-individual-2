{
 "cells": [
  {
   "cell_type": "code",
   "execution_count": 1,
   "metadata": {},
   "outputs": [],
   "source": [
    "import pandas as pd"
   ]
  },
  {
   "cell_type": "code",
   "execution_count": 2,
   "metadata": {},
   "outputs": [],
   "source": [
    "import matplotlib.pyplot as plt\n",
    "import seaborn as sns"
   ]
  },
  {
   "cell_type": "code",
   "execution_count": 3,
   "metadata": {},
   "outputs": [],
   "source": [
    "import numpy as np"
   ]
  },
  {
   "cell_type": "code",
   "execution_count": 4,
   "metadata": {},
   "outputs": [],
   "source": [
    "path = 'C:/Users/Cecilia/Documents/francisco\\henry/proyecto_final_2b/datos/homicidios.xlsx'"
   ]
  },
  {
   "cell_type": "code",
   "execution_count": 27,
   "metadata": {},
   "outputs": [],
   "source": [
    "#df_diccionario_hechos = pd.read_excel(path,sheet_name='DICCIONARIO_HECHOS')\n",
    "#df_diccionario_victimas = pd.read_excel(path,sheet_name='DICCIONARIO_VICTIMAS')\n",
    "#df_diccionario_clas = pd.read_excel(path,sheet_name='clas')"
   ]
  },
  {
   "cell_type": "code",
   "execution_count": 5,
   "metadata": {},
   "outputs": [],
   "source": [
    "df_hechos = pd.read_excel(path,sheet_name='HECHOS')"
   ]
  },
  {
   "cell_type": "code",
   "execution_count": 6,
   "metadata": {},
   "outputs": [
    {
     "data": {
      "text/html": [
       "<div>\n",
       "<style scoped>\n",
       "    .dataframe tbody tr th:only-of-type {\n",
       "        vertical-align: middle;\n",
       "    }\n",
       "\n",
       "    .dataframe tbody tr th {\n",
       "        vertical-align: top;\n",
       "    }\n",
       "\n",
       "    .dataframe thead th {\n",
       "        text-align: right;\n",
       "    }\n",
       "</style>\n",
       "<table border=\"1\" class=\"dataframe\">\n",
       "  <thead>\n",
       "    <tr style=\"text-align: right;\">\n",
       "      <th></th>\n",
       "      <th>ID</th>\n",
       "      <th>N_VICTIMAS</th>\n",
       "      <th>FECHA</th>\n",
       "      <th>AAAA</th>\n",
       "      <th>MM</th>\n",
       "      <th>DD</th>\n",
       "      <th>HORA</th>\n",
       "      <th>HH</th>\n",
       "      <th>LUGAR_DEL_HECHO</th>\n",
       "      <th>TIPO_DE_CALLE</th>\n",
       "      <th>...</th>\n",
       "      <th>Altura</th>\n",
       "      <th>Cruce</th>\n",
       "      <th>Dirección Normalizada</th>\n",
       "      <th>COMUNA</th>\n",
       "      <th>XY (CABA)</th>\n",
       "      <th>pos x</th>\n",
       "      <th>pos y</th>\n",
       "      <th>PARTICIPANTES</th>\n",
       "      <th>VICTIMA</th>\n",
       "      <th>ACUSADO</th>\n",
       "    </tr>\n",
       "  </thead>\n",
       "  <tbody>\n",
       "    <tr>\n",
       "      <th>0</th>\n",
       "      <td>2016-0001</td>\n",
       "      <td>1</td>\n",
       "      <td>2016-01-01</td>\n",
       "      <td>2016</td>\n",
       "      <td>1</td>\n",
       "      <td>1</td>\n",
       "      <td>04:00:00</td>\n",
       "      <td>4</td>\n",
       "      <td>AV PIEDRA BUENA Y AV FERNANDEZ DE LA CRUZ</td>\n",
       "      <td>AVENIDA</td>\n",
       "      <td>...</td>\n",
       "      <td>NaN</td>\n",
       "      <td>FERNANDEZ DE LA CRUZ, F., GRAL. AV.</td>\n",
       "      <td>PIEDRA BUENA AV. y FERNANDEZ DE LA CRUZ, F., G...</td>\n",
       "      <td>8</td>\n",
       "      <td>Point (98896.78238426 93532.43437792)</td>\n",
       "      <td>-58.47533969</td>\n",
       "      <td>-34.68757022</td>\n",
       "      <td>MOTO-AUTO</td>\n",
       "      <td>MOTO</td>\n",
       "      <td>AUTO</td>\n",
       "    </tr>\n",
       "  </tbody>\n",
       "</table>\n",
       "<p>1 rows × 21 columns</p>\n",
       "</div>"
      ],
      "text/plain": [
       "          ID  N_VICTIMAS      FECHA  AAAA  MM  DD      HORA HH  \\\n",
       "0  2016-0001           1 2016-01-01  2016   1   1  04:00:00  4   \n",
       "\n",
       "                             LUGAR_DEL_HECHO TIPO_DE_CALLE  ... Altura  \\\n",
       "0  AV PIEDRA BUENA Y AV FERNANDEZ DE LA CRUZ       AVENIDA  ...    NaN   \n",
       "\n",
       "                                 Cruce  \\\n",
       "0  FERNANDEZ DE LA CRUZ, F., GRAL. AV.   \n",
       "\n",
       "                               Dirección Normalizada COMUNA  \\\n",
       "0  PIEDRA BUENA AV. y FERNANDEZ DE LA CRUZ, F., G...      8   \n",
       "\n",
       "                               XY (CABA)         pos x         pos y  \\\n",
       "0  Point (98896.78238426 93532.43437792)  -58.47533969  -34.68757022   \n",
       "\n",
       "  PARTICIPANTES VICTIMA ACUSADO  \n",
       "0     MOTO-AUTO    MOTO    AUTO  \n",
       "\n",
       "[1 rows x 21 columns]"
      ]
     },
     "execution_count": 6,
     "metadata": {},
     "output_type": "execute_result"
    }
   ],
   "source": [
    "df_hechos.head(1)"
   ]
  },
  {
   "cell_type": "code",
   "execution_count": 30,
   "metadata": {},
   "outputs": [],
   "source": [
    "del df_diccionario_victimas"
   ]
  },
  {
   "cell_type": "code",
   "execution_count": 7,
   "metadata": {},
   "outputs": [
    {
     "name": "stdout",
     "output_type": "stream",
     "text": [
      "(696, 21)\n",
      "(696, 21)\n"
     ]
    }
   ],
   "source": [
    "print(df_hechos.shape)\n",
    "data = df_hechos.drop_duplicates(subset='ID')\n",
    "data = df_hechos.reset_index(drop=True)\n",
    "print(df_hechos.shape)"
   ]
  },
  {
   "cell_type": "markdown",
   "metadata": {},
   "source": [
    "La base de datos df_hechos no tiene duplicados"
   ]
  },
  {
   "cell_type": "code",
   "execution_count": 8,
   "metadata": {},
   "outputs": [
    {
     "data": {
      "text/plain": [
       "N_VICTIMAS\n",
       "1    676\n",
       "2     19\n",
       "3      1\n",
       "Name: count, dtype: int64"
      ]
     },
     "execution_count": 8,
     "metadata": {},
     "output_type": "execute_result"
    }
   ],
   "source": [
    "df_hechos['N_VICTIMAS'].value_counts()"
   ]
  },
  {
   "cell_type": "markdown",
   "metadata": {},
   "source": [
    "<span style = 'font-size: 16 pt;'> Sólo en un accidente hubo 3 muertos.  En 19 hubo 2 muertos y en el resto, 679, hubo un muerto</span>\n"
   ]
  },
  {
   "cell_type": "code",
   "execution_count": 9,
   "metadata": {},
   "outputs": [
    {
     "name": "stdout",
     "output_type": "stream",
     "text": [
      "<class 'pandas.core.frame.DataFrame'>\n",
      "RangeIndex: 696 entries, 0 to 695\n",
      "Data columns (total 21 columns):\n",
      " #   Column                 Non-Null Count  Dtype         \n",
      "---  ------                 --------------  -----         \n",
      " 0   ID                     696 non-null    object        \n",
      " 1   N_VICTIMAS             696 non-null    int64         \n",
      " 2   FECHA                  696 non-null    datetime64[ns]\n",
      " 3   AAAA                   696 non-null    int64         \n",
      " 4   MM                     696 non-null    int64         \n",
      " 5   DD                     696 non-null    int64         \n",
      " 6   HORA                   696 non-null    object        \n",
      " 7   HH                     696 non-null    object        \n",
      " 8   LUGAR_DEL_HECHO        696 non-null    object        \n",
      " 9   TIPO_DE_CALLE          696 non-null    object        \n",
      " 10  Calle                  695 non-null    object        \n",
      " 11  Altura                 129 non-null    float64       \n",
      " 12  Cruce                  525 non-null    object        \n",
      " 13  Dirección Normalizada  688 non-null    object        \n",
      " 14  COMUNA                 696 non-null    int64         \n",
      " 15  XY (CABA)              696 non-null    object        \n",
      " 16  pos x                  696 non-null    object        \n",
      " 17  pos y                  696 non-null    object        \n",
      " 18  PARTICIPANTES          696 non-null    object        \n",
      " 19  VICTIMA                696 non-null    object        \n",
      " 20  ACUSADO                696 non-null    object        \n",
      "dtypes: datetime64[ns](1), float64(1), int64(5), object(14)\n",
      "memory usage: 114.3+ KB\n"
     ]
    }
   ],
   "source": [
    "df_hechos.info()"
   ]
  },
  {
   "cell_type": "code",
   "execution_count": 10,
   "metadata": {},
   "outputs": [],
   "source": [
    "victims_por_ano = df_hechos.groupby('AAAA')['N_VICTIMAS'].sum()"
   ]
  },
  {
   "cell_type": "code",
   "execution_count": 11,
   "metadata": {},
   "outputs": [
    {
     "name": "stdout",
     "output_type": "stream",
     "text": [
      "AAAA\n",
      "2016    146\n",
      "2017    140\n",
      "2018    149\n",
      "2019    104\n",
      "2020     81\n",
      "2021     97\n",
      "Name: N_VICTIMAS, dtype: int64\n"
     ]
    }
   ],
   "source": [
    "print(victims_por_ano)"
   ]
  },
  {
   "cell_type": "markdown",
   "metadata": {},
   "source": [
    "<span style = 'font_size:16pt;'>Es mejor tener el número de muertos por cada 100.000 habitantes </span>"
   ]
  },
  {
   "cell_type": "code",
   "execution_count": 12,
   "metadata": {},
   "outputs": [
    {
     "name": "stdout",
     "output_type": "stream",
     "text": [
      "   anio por_cada_cien_mil\n",
      "0  2016              12.8\n",
      "1  2017              12.7\n",
      "2  2018              12.3\n",
      "3  2019              10.9\n",
      "4  2020               7.3\n",
      "5  2021               8.4\n",
      "6  2022             10.52\n"
     ]
    }
   ],
   "source": [
    "data_array = np.array([[ '2016', 12.8],\n",
    "                       [ '2017', 12.7],\n",
    "                       [ '2018', 12.3],['2019',10.9],['2020',7.3],['2021',8.4],['2022',10.52]])\n",
    "\n",
    "# Crear un DataFrame a partir del array\n",
    "df_por_cien_mil = pd.DataFrame(data_array, columns=[ 'anio', 'por_cada_cien_mil'])\n",
    "print (df_por_cien_mil)"
   ]
  },
  {
   "cell_type": "code",
   "execution_count": 13,
   "metadata": {},
   "outputs": [
    {
     "data": {
      "image/png": "[encoded data removed]",
      "text/plain": [
       "<Figure size 1000x600 with 1 Axes>"
      ]
     },
     "metadata": {},
     "output_type": "display_data"
    }
   ],
   "source": [
    "data = {'Anio': [2016, 2017, 2018, 2019, 2020, 2021, 2022],\n",
    "        'PorCadaCienMil': [12.8, 12.7, 12.3, 10.9, 7.3, 8.4, 10.52]}\n",
    "\n",
    "# Crear un DataFrame\n",
    "df = pd.DataFrame(data)\n",
    "\n",
    "# Configurar el estilo de Seaborn\n",
    "sns.set(style=\"whitegrid\")\n",
    "\n",
    "# Crear el gráfico de regresión\n",
    "plt.figure(figsize=(10, 6))\n",
    "scatterplot = sns.regplot(x='Anio', y='PorCadaCienMil', data=df, scatter_kws={'s': 100}, ci=None, line_kws={'color': 'red'})\n",
    "\n",
    "# Añadir etiquetas y título\n",
    "plt.xlabel('Año')\n",
    "plt.ylabel('Por cada cien mil')\n",
    "plt.title('Regresión lineal de la tasa por cada cien mil habitantes por año')\n",
    "\n",
    "# Mostrar el gráfico\n",
    "plt.show()"
   ]
  },
  {
   "cell_type": "markdown",
   "metadata": {},
   "source": [
    "El gráfico nos muestra una tendencia decreciente en el número de muertos por cada cien mil habitantes que se acentúa en los años 2020 y 2021 debido\n",
    "a la pandemia pero que se vuelve a retomar en el  2022.</span>"
   ]
  },
  {
   "cell_type": "code",
   "execution_count": 14,
   "metadata": {},
   "outputs": [],
   "source": [
    "victims_por_comuna = df_hechos.groupby('COMUNA')['N_VICTIMAS'].sum()"
   ]
  },
  {
   "cell_type": "code",
   "execution_count": 15,
   "metadata": {},
   "outputs": [
    {
     "data": {
      "text/plain": [
       "COMUNA\n",
       "0      2\n",
       "1     93\n",
       "2     25\n",
       "3     46\n",
       "4     79\n",
       "5     22\n",
       "6     22\n",
       "7     62\n",
       "8     67\n",
       "9     75\n",
       "10    30\n",
       "11    33\n",
       "12    39\n",
       "13    40\n",
       "14    37\n",
       "15    45\n",
       "Name: N_VICTIMAS, dtype: int64"
      ]
     },
     "execution_count": 15,
     "metadata": {},
     "output_type": "execute_result"
    }
   ],
   "source": [
    "victims_por_comuna"
   ]
  },
  {
   "cell_type": "code",
   "execution_count": 17,
   "metadata": {},
   "outputs": [
    {
     "data": {
      "image/png": "[encoded data removed]",
      "text/plain": [
       "<Figure size 1000x600 with 1 Axes>"
      ]
     },
     "metadata": {},
     "output_type": "display_data"
    }
   ],
   "source": [
    "comunas = list(range(0, 16))\n",
    "victimas_por_comuna = [2, 93, 25, 46, 79, 22, 22, 62, 67, 75, 30, 33, 39, 40, 37, 45]\n",
    "\n",
    "# Configurar el estilo de Seaborn\n",
    "sns.set(style=\"whitegrid\")\n",
    "\n",
    "# Crear el gráfico de barras\n",
    "plt.figure(figsize=(10, 6))\n",
    "barplot = sns.barplot(x=comunas, y=victimas_por_comuna, color='skyblue')\n",
    "\n",
    "# Añadir etiquetas y título\n",
    "plt.xlabel('Número de Comuna')\n",
    "plt.ylabel('Número de Víctimas')\n",
    "plt.title('Número de Víctimas por Accidentes de Tránsito en Comunas de Buenos Aires')\n",
    "\n",
    "# Mostrar el gráfico\n",
    "plt.show()"
   ]
  },
  {
   "cell_type": "markdown",
   "metadata": {},
   "source": [
    "Tratemos de encontrar algún punto en común entra las comunas 2,5,10 que las hace tan proclives a este tipo de accidente. </span>"
   ]
  },
  {
   "cell_type": "code",
   "execution_count": 7,
   "metadata": {},
   "outputs": [],
   "source": [
    "df_hechos_recoleta = df_hechos[df_hechos['COMUNA']==2]"
   ]
  },
  {
   "cell_type": "code",
   "execution_count": 8,
   "metadata": {},
   "outputs": [
    {
     "name": "stdout",
     "output_type": "stream",
     "text": [
      "            ID  N_VICTIMAS      FECHA  AAAA  MM  DD      HORA  HH  \\\n",
      "48   2016-0068           1 2016-05-22  2016   5  22  22:00:00  22   \n",
      "154  2017-0015           1 2017-02-02  2017   2   2  15:18:03  15   \n",
      "189  2017-0061           1 2017-05-15  2017   5  15  13:29:30  13   \n",
      "203  2017-0076           1 2017-06-13  2017   6  13  14:50:00  14   \n",
      "209  2017-0084           1 2017-07-05  2017   7   5  12:49:00  12   \n",
      "236  2017-0114           1 2017-09-15  2017   9  15  02:30:00   2   \n",
      "245  2017-0127           1 2017-10-16  2017  10  16  07:45:00   7   \n",
      "285  2018-0011           1 2018-01-19  2018   1  19  10:30:00  10   \n",
      "293  2018-0019           1 2018-02-17  2018   2  17  12:30:00  12   \n",
      "308  2018-0034           1 2018-04-11  2018   4  11  18:15:00  18   \n",
      "311  2018-0037           1 2018-04-18  2018   4  18  18:45:00  18   \n",
      "343  2018-0069           1 2018-07-04  2018   7   4  21:45:00  21   \n",
      "352  2018-0078           1 2018-07-21  2018   7  21  06:15:00   6   \n",
      "406  2018-0132           1 2018-12-12  2018  12  12  08:26:00   8   \n",
      "418  2019-0001           1 2019-01-08  2019   1   8  08:30:00   8   \n",
      "444  2019-0027           1 2019-03-28  2019   3  28  11:11:00  11   \n",
      "528  2020-0008           1 2020-01-30  2020   1  30  07:10:00   7   \n",
      "541  2020-0021           1 2020-03-14  2020   3  14  16:50:00  16   \n",
      "560  2020-0040           1 2020-09-12  2020   9  12  03:30:00   3   \n",
      "587  2020-0068           1 2020-12-12  2020  12  12  20:30:00  20   \n",
      "589  2020-0070           1 2020-12-17  2020  12  17  15:35:00  15   \n",
      "609  2021-0011           1 2021-01-27  2021   1  27  01:04:26   1   \n",
      "655  2021-0057           1 2021-07-10  2021   7  10  23:30:00  23   \n",
      "670  2021-0072           1 2021-09-01  2021   9   1  19:10:00  19   \n",
      "671  2021-0073           1 2021-09-18  2021   9  18  12:20:00  12   \n",
      "\n",
      "                              LUGAR_DEL_HECHO TIPO_DE_CALLE  ...  Altura  \\\n",
      "48        AV FIGUEROA ALCORTA Y AV PUEYRREDON       AVENIDA  ...     NaN   \n",
      "154                      CORDOBA AV. Y CALLAO       AVENIDA  ...     NaN   \n",
      "189                    PARAGUAY Y AV. CALLAO        AVENIDA  ...     NaN   \n",
      "203             AV. RAMON CASTILLO Y CALLE 12       AVENIDA  ...     NaN   \n",
      "209       AV. DEL LIBERTADOR Y RODRIGUEZ PEÑA       AVENIDA  ...     NaN   \n",
      "236           AV. ALVEAR Y AV. DEL LIBERTADOR       AVENIDA  ...     NaN   \n",
      "245                       GALLO Y AV. CORDOBA       AVENIDA  ...     NaN   \n",
      "285                       Callao y Vte. Lopez       AVENIDA  ...     NaN   \n",
      "293        Las Heras General Av. y Callao Av.       AVENIDA  ...     NaN   \n",
      "308                         Santa Fe Av. 2320       AVENIDA  ...  2320.0   \n",
      "311      Cordoba Av. y Uriburu Jose E., Pres.       AVENIDA  ...     NaN   \n",
      "343                      Córdoba Av. 2215\\n\\n       AVENIDA  ...  2215.0   \n",
      "352          Paraguay y Sánchez De Bustamante         CALLE  ...     NaN   \n",
      "406      AU Arturo Illia y Castillo, Ramon S.     AUTOPISTA  ...     NaN   \n",
      "418  CASTILLO, RAMON S., PRES. AV. Y CALLE 12       AVENIDA  ...     NaN   \n",
      "444                  SANTA FE AV. Y AZCUENAGA       AVENIDA  ...     NaN   \n",
      "528                 CORDOBA AV. Y JEAN JAURES       AVENIDA  ...     NaN   \n",
      "541                         BRAVO, MARIO 1279         CALLE  ...  1279.0   \n",
      "560  CASTILLO, RAMON S., PRES. AV. Y CALLE 12       AVENIDA  ...     NaN   \n",
      "587              DEL LIBERTADOR AV. Y AUSTRIA       AVENIDA  ...     NaN   \n",
      "589           CALLAO AV. Y LAS HERAS, GENERAL       AVENIDA  ...     NaN   \n",
      "609                         SANTA FE AV. 1675       AVENIDA  ...  1675.0   \n",
      "655  AU ILLIA KM 3.2, ALTURA CABINAS DE PEAJE     AUTOPISTA  ...     NaN   \n",
      "670                     CALLAO AV. Y PARAGUAY       AVENIDA  ...     NaN   \n",
      "671      DEL LIBERTADOR AV. Y AGOTE, LUIS DR.       AVENIDA  ...     NaN   \n",
      "\n",
      "                             Cruce  \\\n",
      "48                  PUEYRREDON AV.   \n",
      "154                     CALLAO AV.   \n",
      "189                     CALLAO AV.   \n",
      "203          CALLE 12 (NO OFICIAL)   \n",
      "209                 RODRIGUEZ PE?A   \n",
      "236             DEL LIBERTADOR AV.   \n",
      "245                    CORDOBA AV.   \n",
      "285                 LOPEZ, VICENTE   \n",
      "293                     CALLAO AV.   \n",
      "308                            NaN   \n",
      "311         URIBURU JOSE E., PRES.   \n",
      "343                            NaN   \n",
      "352          SANCHEZ DE BUSTAMANTE   \n",
      "406  CASTILLO, RAMON S., PRES. AV.   \n",
      "418          CALLE 12 (NO OFICIAL)   \n",
      "444                      AZCUENAGA   \n",
      "528                   JAURES, JEAN   \n",
      "541                            NaN   \n",
      "560          CALLE 12 (NO OFICIAL)   \n",
      "587                        AUSTRIA   \n",
      "589             LAS HERAS, GENERAL   \n",
      "609                            NaN   \n",
      "655                            NaN   \n",
      "670                       PARAGUAY   \n",
      "671                AGOTE, LUIS DR.   \n",
      "\n",
      "                                 Dirección Normalizada COMUNA  \\\n",
      "48        FIGUEROA ALCORTA, PRES. AV. y PUEYRREDON AV.      2   \n",
      "154                           CORDOBA AV. y CALLAO AV.      2   \n",
      "189                              PARAGUAY y CALLAO AV.      2   \n",
      "203  CASTILLO, RAMON S., PRES. AV. y CALLE 12 (NO O...      2   \n",
      "209               DEL LIBERTADOR AV. y RODRIGUEZ PEÃ‘A      2   \n",
      "236                    ALVEAR AV. y DEL LIBERTADOR AV.      2   \n",
      "245                                GALLO y CORDOBA AV.      2   \n",
      "285                        CALLAO AV. y LOPEZ, VICENTE      2   \n",
      "293                 LAS HERAS GENERAL AV. y CALLAO AV.      2   \n",
      "308                                  SANTA FE AV. 2320      2   \n",
      "311               CORDOBA AV. y URIBURU JOSE E., PRES.      2   \n",
      "343                                   CORDOBA AV. 2215      2   \n",
      "352                   PARAGUAY y SANCHEZ DE BUSTAMANTE      2   \n",
      "406  AUTOPISTA ARTURO ILLIA y CASTILLO, RAMON S., P...      2   \n",
      "418  CASTILLO, RAMON S., PRES. AV. y CALLE 12 (NO O...      2   \n",
      "444                           SANTA FE AV. y AZCUENAGA      2   \n",
      "528                         CORDOBA AV. y JAURES, JEAN      2   \n",
      "541                                  BRAVO, MARIO 1279      2   \n",
      "560  CASTILLO, RAMON S., PRES. AV. y CALLE 12 (NO O...      2   \n",
      "587                       DEL LIBERTADOR AV. y AUSTRIA      2   \n",
      "589                    CALLAO AV. y LAS HERAS, GENERAL      2   \n",
      "609                                  SANTA FE AV. 1675      2   \n",
      "655          AUTOPISTA  ARTURO ILLIA (CABINA DE PEAJE)      2   \n",
      "670                              CALLAO AV. y PARAGUAY      2   \n",
      "671               DEL LIBERTADOR AV. y AGOTE, LUIS DR.      2   \n",
      "\n",
      "                                   XY (CABA)         pos x         pos y  \\\n",
      "48   Point (106673.12856878 104998.99234220)  -58.39056593  -34.58418569   \n",
      "154  Point (106454.66355436 103285.14730222)  -58.39293417  -34.59963642   \n",
      "189  Point (106445.10866138 103387.80115442)  -58.39303911  -34.59871111   \n",
      "203  Point (107160.34141948 105678.38284277)  -58.38526125  -34.57805810   \n",
      "209  Point (107180.90591568 104682.54945160)  -58.38502878  -34.58703485   \n",
      "236  Point (106632.70892338 104910.17381357)  -58.39100580  -34.58498660   \n",
      "245  Point (104713.04838502 103467.44528033)  -58.41192137  -34.59800248   \n",
      "285  Point (106639.47032605 104255.89970551)  -58.39092703  -34.59088447   \n",
      "293  Point (106550.65433457 104158.41702434)  -58.39189441  -34.59176378   \n",
      "308  Point (105786.93203839 103775.29320399)  -58.40021675  -34.59522198   \n",
      "311  Point (105923.35790409 103271.83194351)  -58.39872610  -34.59975962   \n",
      "343  Point (105900.94104333 103295.18325601)  -58.39897064  -34.59954925   \n",
      "352  Point (104647.18963470 103830.17880585)  -58.41264127  -34.59473294   \n",
      "406  Point (106275.90279188 106304.98623165)  -58.39490504  -34.57241534   \n",
      "418  Point (107160.34141948 105678.38284277)  -58.38526125  -34.57805810   \n",
      "444  Point (105815.73438780 103786.90549585)  -58.39990285  -34.59511714   \n",
      "528  Point (105198.52795163 103462.44828321)  -58.40662899  -34.59804521   \n",
      "541  Point (104475.21054309 103813.59469342)  -58.41451590  -34.59488319   \n",
      "560  Point (107160.34141948 105678.38284277)  -58.38526125  -34.57805810   \n",
      "587  Point (106054.02111991 105122.19678820)  -58.39731474  -34.58307887   \n",
      "589  Point (106550.65433457 104158.41702434)  -58.39189441  -34.59176378   \n",
      "609  Point (106591.90146932 103727.42053338)  -58.39144148  -34.59564871   \n",
      "655  Point (106489.89755339 105947.16700228)  -58.39257023  -34.57563957   \n",
      "670  Point (106445.10866138 103387.80115442)  -58.39303911  -34.59871111   \n",
      "671   Point (106366.2976627 105013.87298990)  -58.39391034  -34.58405348   \n",
      "\n",
      "           PARTICIPANTES    VICTIMA      ACUSADO  \n",
      "48        MOTO-PASAJEROS       MOTO    PASAJEROS  \n",
      "154          PEATON-AUTO     PEATON         AUTO  \n",
      "189          PEATON-MOTO     PEATON         MOTO  \n",
      "203        PEATON-CARGAS     PEATON       CARGAS  \n",
      "209     PEATON-PASAJEROS     PEATON    PASAJEROS  \n",
      "236     AUTO-OBJETO FIJO       AUTO  OBJETO FIJO  \n",
      "245            MOTO-MOTO       MOTO         MOTO  \n",
      "285     PEATON-PASAJEROS     PEATON    PASAJEROS  \n",
      "293     PEATON-PASAJEROS     PEATON    PASAJEROS  \n",
      "308     PEATON-PASAJEROS     PEATON    PASAJEROS  \n",
      "311        PEATON-CARGAS     PEATON       CARGAS  \n",
      "343  BICICLETA-PASAJEROS  BICICLETA    PASAJEROS  \n",
      "352          PEATON-AUTO     PEATON         AUTO  \n",
      "406        PEATON-CARGAS     PEATON       CARGAS  \n",
      "418          MOTO-CARGAS       MOTO       CARGAS  \n",
      "444             MULTIPLE  BICICLETA     MULTIPLE  \n",
      "528          MOTO-CARGAS       MOTO       CARGAS  \n",
      "541          PEATON-AUTO     PEATON         AUTO  \n",
      "560     AUTO-OBJETO FIJO       AUTO  OBJETO FIJO  \n",
      "587            MOTO-AUTO       MOTO         AUTO  \n",
      "589     PEATON-PASAJEROS     PEATON    PASAJEROS  \n",
      "609          PEATON-AUTO     PEATON         AUTO  \n",
      "655     AUTO-OBJETO FIJO       AUTO  OBJETO FIJO  \n",
      "670          PEATON-AUTO     PEATON         AUTO  \n",
      "671       BICICLETA-AUTO  BICICLETA         AUTO  \n",
      "\n",
      "[25 rows x 21 columns]\n"
     ]
    }
   ],
   "source": [
    "print(df_hechos_recoleta)"
   ]
  },
  {
   "cell_type": "code",
   "execution_count": 11,
   "metadata": {},
   "outputs": [],
   "source": [
    "df_hechos_recoleta = df_hechos_recoleta[['N_VICTIMAS','AAAA','HH','VICTIMA']]"
   ]
  },
  {
   "cell_type": "code",
   "execution_count": 12,
   "metadata": {},
   "outputs": [
    {
     "data": {
      "text/html": [
       "<div>\n",
       "<style scoped>\n",
       "    .dataframe tbody tr th:only-of-type {\n",
       "        vertical-align: middle;\n",
       "    }\n",
       "\n",
       "    .dataframe tbody tr th {\n",
       "        vertical-align: top;\n",
       "    }\n",
       "\n",
       "    .dataframe thead th {\n",
       "        text-align: right;\n",
       "    }\n",
       "</style>\n",
       "<table border=\"1\" class=\"dataframe\">\n",
       "  <thead>\n",
       "    <tr style=\"text-align: right;\">\n",
       "      <th></th>\n",
       "      <th>N_VICTIMAS</th>\n",
       "      <th>AAAA</th>\n",
       "      <th>HH</th>\n",
       "      <th>VICTIMA</th>\n",
       "    </tr>\n",
       "  </thead>\n",
       "  <tbody>\n",
       "    <tr>\n",
       "      <th>48</th>\n",
       "      <td>1</td>\n",
       "      <td>2016</td>\n",
       "      <td>22</td>\n",
       "      <td>MOTO</td>\n",
       "    </tr>\n",
       "    <tr>\n",
       "      <th>154</th>\n",
       "      <td>1</td>\n",
       "      <td>2017</td>\n",
       "      <td>15</td>\n",
       "      <td>PEATON</td>\n",
       "    </tr>\n",
       "    <tr>\n",
       "      <th>189</th>\n",
       "      <td>1</td>\n",
       "      <td>2017</td>\n",
       "      <td>13</td>\n",
       "      <td>PEATON</td>\n",
       "    </tr>\n",
       "    <tr>\n",
       "      <th>203</th>\n",
       "      <td>1</td>\n",
       "      <td>2017</td>\n",
       "      <td>14</td>\n",
       "      <td>PEATON</td>\n",
       "    </tr>\n",
       "    <tr>\n",
       "      <th>209</th>\n",
       "      <td>1</td>\n",
       "      <td>2017</td>\n",
       "      <td>12</td>\n",
       "      <td>PEATON</td>\n",
       "    </tr>\n",
       "    <tr>\n",
       "      <th>236</th>\n",
       "      <td>1</td>\n",
       "      <td>2017</td>\n",
       "      <td>2</td>\n",
       "      <td>AUTO</td>\n",
       "    </tr>\n",
       "    <tr>\n",
       "      <th>245</th>\n",
       "      <td>1</td>\n",
       "      <td>2017</td>\n",
       "      <td>7</td>\n",
       "      <td>MOTO</td>\n",
       "    </tr>\n",
       "    <tr>\n",
       "      <th>285</th>\n",
       "      <td>1</td>\n",
       "      <td>2018</td>\n",
       "      <td>10</td>\n",
       "      <td>PEATON</td>\n",
       "    </tr>\n",
       "    <tr>\n",
       "      <th>293</th>\n",
       "      <td>1</td>\n",
       "      <td>2018</td>\n",
       "      <td>12</td>\n",
       "      <td>PEATON</td>\n",
       "    </tr>\n",
       "    <tr>\n",
       "      <th>308</th>\n",
       "      <td>1</td>\n",
       "      <td>2018</td>\n",
       "      <td>18</td>\n",
       "      <td>PEATON</td>\n",
       "    </tr>\n",
       "    <tr>\n",
       "      <th>311</th>\n",
       "      <td>1</td>\n",
       "      <td>2018</td>\n",
       "      <td>18</td>\n",
       "      <td>PEATON</td>\n",
       "    </tr>\n",
       "    <tr>\n",
       "      <th>343</th>\n",
       "      <td>1</td>\n",
       "      <td>2018</td>\n",
       "      <td>21</td>\n",
       "      <td>BICICLETA</td>\n",
       "    </tr>\n",
       "    <tr>\n",
       "      <th>352</th>\n",
       "      <td>1</td>\n",
       "      <td>2018</td>\n",
       "      <td>6</td>\n",
       "      <td>PEATON</td>\n",
       "    </tr>\n",
       "    <tr>\n",
       "      <th>406</th>\n",
       "      <td>1</td>\n",
       "      <td>2018</td>\n",
       "      <td>8</td>\n",
       "      <td>PEATON</td>\n",
       "    </tr>\n",
       "    <tr>\n",
       "      <th>418</th>\n",
       "      <td>1</td>\n",
       "      <td>2019</td>\n",
       "      <td>8</td>\n",
       "      <td>MOTO</td>\n",
       "    </tr>\n",
       "    <tr>\n",
       "      <th>444</th>\n",
       "      <td>1</td>\n",
       "      <td>2019</td>\n",
       "      <td>11</td>\n",
       "      <td>BICICLETA</td>\n",
       "    </tr>\n",
       "    <tr>\n",
       "      <th>528</th>\n",
       "      <td>1</td>\n",
       "      <td>2020</td>\n",
       "      <td>7</td>\n",
       "      <td>MOTO</td>\n",
       "    </tr>\n",
       "    <tr>\n",
       "      <th>541</th>\n",
       "      <td>1</td>\n",
       "      <td>2020</td>\n",
       "      <td>16</td>\n",
       "      <td>PEATON</td>\n",
       "    </tr>\n",
       "    <tr>\n",
       "      <th>560</th>\n",
       "      <td>1</td>\n",
       "      <td>2020</td>\n",
       "      <td>3</td>\n",
       "      <td>AUTO</td>\n",
       "    </tr>\n",
       "    <tr>\n",
       "      <th>587</th>\n",
       "      <td>1</td>\n",
       "      <td>2020</td>\n",
       "      <td>20</td>\n",
       "      <td>MOTO</td>\n",
       "    </tr>\n",
       "    <tr>\n",
       "      <th>589</th>\n",
       "      <td>1</td>\n",
       "      <td>2020</td>\n",
       "      <td>15</td>\n",
       "      <td>PEATON</td>\n",
       "    </tr>\n",
       "    <tr>\n",
       "      <th>609</th>\n",
       "      <td>1</td>\n",
       "      <td>2021</td>\n",
       "      <td>1</td>\n",
       "      <td>PEATON</td>\n",
       "    </tr>\n",
       "    <tr>\n",
       "      <th>655</th>\n",
       "      <td>1</td>\n",
       "      <td>2021</td>\n",
       "      <td>23</td>\n",
       "      <td>AUTO</td>\n",
       "    </tr>\n",
       "    <tr>\n",
       "      <th>670</th>\n",
       "      <td>1</td>\n",
       "      <td>2021</td>\n",
       "      <td>19</td>\n",
       "      <td>PEATON</td>\n",
       "    </tr>\n",
       "    <tr>\n",
       "      <th>671</th>\n",
       "      <td>1</td>\n",
       "      <td>2021</td>\n",
       "      <td>12</td>\n",
       "      <td>BICICLETA</td>\n",
       "    </tr>\n",
       "  </tbody>\n",
       "</table>\n",
       "</div>"
      ],
      "text/plain": [
       "     N_VICTIMAS  AAAA  HH    VICTIMA\n",
       "48            1  2016  22       MOTO\n",
       "154           1  2017  15     PEATON\n",
       "189           1  2017  13     PEATON\n",
       "203           1  2017  14     PEATON\n",
       "209           1  2017  12     PEATON\n",
       "236           1  2017   2       AUTO\n",
       "245           1  2017   7       MOTO\n",
       "285           1  2018  10     PEATON\n",
       "293           1  2018  12     PEATON\n",
       "308           1  2018  18     PEATON\n",
       "311           1  2018  18     PEATON\n",
       "343           1  2018  21  BICICLETA\n",
       "352           1  2018   6     PEATON\n",
       "406           1  2018   8     PEATON\n",
       "418           1  2019   8       MOTO\n",
       "444           1  2019  11  BICICLETA\n",
       "528           1  2020   7       MOTO\n",
       "541           1  2020  16     PEATON\n",
       "560           1  2020   3       AUTO\n",
       "587           1  2020  20       MOTO\n",
       "589           1  2020  15     PEATON\n",
       "609           1  2021   1     PEATON\n",
       "655           1  2021  23       AUTO\n",
       "670           1  2021  19     PEATON\n",
       "671           1  2021  12  BICICLETA"
      ]
     },
     "execution_count": 12,
     "metadata": {},
     "output_type": "execute_result"
    }
   ],
   "source": [
    "df_hechos_recoleta"
   ]
  },
  {
   "cell_type": "code",
   "execution_count": 16,
   "metadata": {},
   "outputs": [
    {
     "data": {
      "text/plain": [
       "12.52"
      ]
     },
     "execution_count": 16,
     "metadata": {},
     "output_type": "execute_result"
    }
   ],
   "source": [
    "df_hechos_recoleta['HH'].mean()"
   ]
  },
  {
   "cell_type": "code",
   "execution_count": 17,
   "metadata": {},
   "outputs": [
    {
     "data": {
      "text/plain": [
       "(25, 4)"
      ]
     },
     "execution_count": 17,
     "metadata": {},
     "output_type": "execute_result"
    }
   ],
   "source": [
    "df_hechos_recoleta.shape"
   ]
  },
  {
   "cell_type": "code",
   "execution_count": 15,
   "metadata": {},
   "outputs": [
    {
     "data": {
      "text/plain": [
       "VICTIMA\n",
       "PEATON       14\n",
       "MOTO          5\n",
       "AUTO          3\n",
       "BICICLETA     3\n",
       "Name: count, dtype: int64"
      ]
     },
     "execution_count": 15,
     "metadata": {},
     "output_type": "execute_result"
    }
   ],
   "source": [
    "df_hechos_recoleta['VICTIMA'].value_counts()"
   ]
  },
  {
   "cell_type": "code",
   "execution_count": 18,
   "metadata": {},
   "outputs": [],
   "source": [
    "df_hechos_almagro = df_hechos[df_hechos['COMUNA']==5]"
   ]
  },
  {
   "cell_type": "code",
   "execution_count": 19,
   "metadata": {},
   "outputs": [
    {
     "data": {
      "text/plain": [
       "(22, 21)"
      ]
     },
     "execution_count": 19,
     "metadata": {},
     "output_type": "execute_result"
    }
   ],
   "source": [
    "df_hechos_almagro.shape"
   ]
  },
  {
   "cell_type": "code",
   "execution_count": 21,
   "metadata": {},
   "outputs": [],
   "source": [
    "df_hechos_almagro=df_hechos_almagro[['N_VICTIMAS','AAAA','HH','VICTIMA']]"
   ]
  },
  {
   "cell_type": "code",
   "execution_count": 24,
   "metadata": {},
   "outputs": [
    {
     "data": {
      "text/plain": [
       "VICTIMA\n",
       "PEATON    12\n",
       "MOTO       9\n",
       "AUTO       1\n",
       "Name: count, dtype: int64"
      ]
     },
     "execution_count": 24,
     "metadata": {},
     "output_type": "execute_result"
    }
   ],
   "source": [
    "df_hechos_almagro['VICTIMA'].value_counts()"
   ]
  },
  {
   "cell_type": "code",
   "execution_count": 25,
   "metadata": {},
   "outputs": [
    {
     "data": {
      "text/plain": [
       "14.681818181818182"
      ]
     },
     "execution_count": 25,
     "metadata": {},
     "output_type": "execute_result"
    }
   ],
   "source": [
    "df_hechos_almagro['HH'].mean()"
   ]
  },
  {
   "cell_type": "code",
   "execution_count": 27,
   "metadata": {},
   "outputs": [],
   "source": [
    "df_hechos_floresta = df_hechos[df_hechos['COMUNA']==10]"
   ]
  },
  {
   "cell_type": "code",
   "execution_count": 28,
   "metadata": {},
   "outputs": [],
   "source": [
    "df_hechos_floresta = df_hechos_floresta[['N_VICTIMAS','AAAA','HH','VICTIMA']]"
   ]
  },
  {
   "cell_type": "code",
   "execution_count": 30,
   "metadata": {},
   "outputs": [
    {
     "data": {
      "text/plain": [
       "(29, 4)"
      ]
     },
     "execution_count": 30,
     "metadata": {},
     "output_type": "execute_result"
    }
   ],
   "source": [
    "df_hechos_floresta.shape"
   ]
  },
  {
   "cell_type": "code",
   "execution_count": 31,
   "metadata": {},
   "outputs": [
    {
     "data": {
      "text/plain": [
       "11.206896551724139"
      ]
     },
     "execution_count": 31,
     "metadata": {},
     "output_type": "execute_result"
    }
   ],
   "source": [
    "df_hechos_floresta['HH'].mean()"
   ]
  },
  {
   "cell_type": "code",
   "execution_count": 32,
   "metadata": {},
   "outputs": [
    {
     "data": {
      "text/plain": [
       "VICTIMA\n",
       "MOTO         16\n",
       "PEATON        7\n",
       "AUTO          3\n",
       "BICICLETA     2\n",
       "PASAJEROS     1\n",
       "Name: count, dtype: int64"
      ]
     },
     "execution_count": 32,
     "metadata": {},
     "output_type": "execute_result"
    }
   ],
   "source": [
    "df_hechos_floresta['VICTIMA'].value_counts()"
   ]
  },
  {
   "cell_type": "code",
   "execution_count": 35,
   "metadata": {},
   "outputs": [
    {
     "name": "stdout",
     "output_type": "stream",
     "text": [
      "Ecuación de la recta de regresión: y = -0.73x + 1484.57\n"
     ]
    },
    {
     "data": {
      "image/png": "[encoded data removed]",
      "text/plain": [
       "<Figure size 640x480 with 1 Axes>"
      ]
     },
     "metadata": {},
     "output_type": "display_data"
    }
   ],
   "source": [
    "\n",
    "from sklearn.linear_model import LinearRegression\n",
    "\n",
    "\n",
    "# Supongamos que tienes un DataFrame con columnas 'años' y 'victimas'\n",
    "# Reemplaza esto con tus datos reales\n",
    "\n",
    "\n",
    "df = pd.DataFrame(data)\n",
    "\n",
    "# Prepara los datos para la regresión\n",
    "X = df[['Anio']]  # Variables independientes (años)\n",
    "y = df['PorCadaCienMil']  # Variable dependiente (víctimas)\n",
    "\n",
    "# Inicializa el modelo de regresión lineal\n",
    "modelo_regresion = LinearRegression()\n",
    "\n",
    "# Ajusta el modelo a los datos\n",
    "modelo_regresion.fit(X, y)\n",
    "\n",
    "# Obtiene los coeficientes de la recta de regresión\n",
    "pendiente = modelo_regresion.coef_[0]\n",
    "intercepto = modelo_regresion.intercept_\n",
    "\n",
    "# Imprime la ecuación de la recta de regresión\n",
    "print(f\"Ecuación de la recta de regresión: y = {pendiente:.2f}x + {intercepto:.2f}\")\n",
    "\n",
    "# Realiza predicciones usando el modelo\n",
    "predicciones = modelo_regresion.predict(X)\n",
    "\n",
    "# Grafica los datos y la recta de regresión\n",
    "plt.scatter(X, y, label='Datos reales')\n",
    "plt.plot(X, predicciones, color='red', label='Recta de regresión')\n",
    "plt.xlabel('Años')\n",
    "plt.ylabel('Víctimas por año')\n",
    "plt.legend()\n",
    "plt.show()"
   ]
  },
  {
   "cell_type": "code",
   "execution_count": 7,
   "metadata": {},
   "outputs": [
    {
     "data": {
      "text/plain": [
       "array(['AV PIEDRA BUENA Y AV FERNANDEZ DE LA CRUZ',\n",
       "       'AV GRAL PAZ  Y AV DE LOS CORRALES', 'AV ENTRE RIOS 2034',\n",
       "       'AV LARRAZABAL Y GRAL VILLEGAS CONRADO',\n",
       "       'AV SAN JUAN Y PRESIDENTE LUIS SAENZ PEÑA ',\n",
       "       'AV 27 DE FEBRERO Y AV ESCALADA', 'NOGOYA Y JOAQUIN V. GONZALES',\n",
       "       'AV GENERAL PAZ Y AV DE LOS CORRALES',\n",
       "       'AV BELGRANO Y BERNARDO DE IRIGOYEN', 'AV ENTRE RIOS 1366',\n",
       "       'AV SCALABRINI ORTIZ Y VERA',\n",
       "       'AV REGIMIENTO DE PATRICIOS Y QUINQUELA MARTIN BENITO',\n",
       "       'MARIANO ACOSTA Y ANA MARIA JANER',\n",
       "       'LISANDRO DE LA TORRE Y SEVERO GARCIA GRANDE DE ZEQUEIRA ',\n",
       "       'SUIPACHA 156', 'AV DIRECTORIO Y CURAPALIGUE',\n",
       "       'AV 9 DE JULIO Y ADOLFO ALSINA', 'AV GRAL PAZ Y AV 27 DE FEBRERO',\n",
       "       'HOLMBERG Y VEDIA', 'CURAPALIGUE Y AVELINO DIAZ',\n",
       "       'VIAMONTE Y AV 9 DE JULIO', 'AV CABILDO Y DEHEZA',\n",
       "       'AV GRAL PAZ Y AV CNEL ROCA', 'AV AMANCIO ALCORTA Y BONAVENA',\n",
       "       'AV CORRIENTES Y AV CALLAO', 'HERRERA Y ARISTOBULO DEL VALLE',\n",
       "       'AV. EVA PERON Y QUIRNO', 'AV GRAL PAZ COLECTORA Y ZUVIRIA',\n",
       "       'BARTOLOME MITRE Y AV PUEYRREDON',\n",
       "       'AV DIRECTORIO Y RIVERA INDARTE',\n",
       "       'DELLEPIANE LUIS TTE GRAL COLECTORA Y MURGUIONDO',\n",
       "       'AV JOSE MARIA MORENO Y BALBASTRO',\n",
       "       'AV GRAL PAZ Y AV DEL LIBERTADOR', 'LIMA 1483',\n",
       "       'AV. CORRIENTES Y AV. DORREGO',\n",
       "       'AUTOPISTA 1 SUR PRESIDENTE ARTURO FRONDIZI KM. 0,700',\n",
       "       'TIMOTEO GORDILLO Y AV FERNANDEZ DE LA CRUZ',\n",
       "       'AUTOPISTA LUGONES PK 10000', 'AV TRIUNVIRATO Y AV OLAZABAL',\n",
       "       'AU LUIS DELLEPIANE Y AV GRAL PAZ',\n",
       "       'RAMON CASTILLA Y AV FIGUEROA ALCORTA', 'AV LUIS MARIA CAMPOS 30',\n",
       "       'LIMA 1471', 'PASAJE CIUDADELA Y LIMA OESTE',\n",
       "       'AV JUAN B JUSTO Y AV CARRASCO', 'AV GAONA Y ESPINOSA',\n",
       "       'AV LISANDRO DE LA TORRE Y SARAZA',\n",
       "       'AV FIGUEROA ALCORTA Y AV PUEYRREDON',\n",
       "       'AV ENTRE RIOS Y PASAJE FILIBERTO', 'MAGARIÑOS CERVANTES 3900',\n",
       "       'AV GRAL PAZ Y RODOLFO SCAPINO',\n",
       "       'AUTOPISTA DELLEPIANE LUIS TTE GRAL Y MIRALLA',\n",
       "       'AV SAN MARTIN Y CAMARONES',\n",
       "       'TTEG JUAN D PERON Y AVDA LEANDRO N ALEM',\n",
       "       'AV BELGRANO Y AV JUJUY',\n",
       "       'AV DEL LIBERTADOR Y AV GUILLERMO UDAONDO',\n",
       "       'AV GRAL PAZ Y AV RIVADAVIA', 'AV CRISOLOGO LARRALDE Y MACHAIN',\n",
       "       'AV LA PLATA 2384', 'AV JUAN B ALBERDI Y PUAN',\n",
       "       'CARLOS PELLEGRINI Y TUCUMAN',\n",
       "       'AVDA ITE FRANCISCO RABANAL & AVDA EREZCANO',\n",
       "       'AV OLIVERA Y RAMON FALCON',\n",
       "       'AUTOPISTA 1 SUR PTE ARTURO FRONDIZI Y AV CASEROS',\n",
       "       'CERETTI Y NUÑEZ', 'AV LUGONES Y LA PAMPA',\n",
       "       'JERONIMO SALGUERO Y AV RIVADAVIA', 'AV GRAL PAZ Y AV LIBERTADOR ',\n",
       "       'AV JUAN B ALBERDI Y EMILIO MITRE', 'MERCEDES Y AV GRAL MOSCONI',\n",
       "       'AUTOPISTA DELLEPIANE LUIS TTE. GRAL. KM. 2,3', 'SOLIS Y MEXICO',\n",
       "       'AV SAN JUAN Y ALBERTI', 'AV GRAL MOSCONI Y AV GRAL PAZ',\n",
       "       'AV GRAL PAZ  Y DONADO', 'AV GRAL PAZ Y JORGE CHAVEZ',\n",
       "       'AV EVA PERON Y JOSE LEON SUAREZ',\n",
       "       'ZINNY Y AV SANTIAGO DE COMPOSTELA', 'AV FEDERICO LACROZE Y FRAGA',\n",
       "       'CARLOS PELLEGRINI Y AV DEL LIBERTADOR',\n",
       "       'AUTOPISTA 9 DE JULIO SUR ALT AV MENDOZA',\n",
       "       'AUTOPISTA PERITO MORENO Y BARRAGAN', 'AV ALBERDI Y CARHUE',\n",
       "       'AUTOPISTA LEOPOLDO LUGONES Y LA PAMPA',\n",
       "       'AUTOPISTA 25 DE MAYO AUTOPISTA 1 SUR ARTURO FRONDIZI',\n",
       "       'AV JUAN BAUTISTA ALBERDI Y GUARDIA NACIONAL', 'SALGUERO 1410',\n",
       "       'ARIAS Y TRONADOR', 'AV DEL LIBERTADOR Y TAGLE',\n",
       "       'AUTOPISTA 1 SUR PTE ARTURO FRONDIZI KM 2.9',\n",
       "       'CRISOLOGO LARRALDE Y AVDA TRIUNVIRATO', 'AV EVA PERON 4233',\n",
       "       'AV ASAMBLEA Y AV CNEL ESTEBAN BONORINO',\n",
       "       'AVDA RIVADAVIA Y RIVERA INDARTE',\n",
       "       'AUTOPISTA PERITO MORENO Y AV JUAN B ALBERDI',\n",
       "       'IRIGOYEN Y TINOGASTA', 'AV MARIANO ACOSTA Y AV CNEL ROCA',\n",
       "       'CASTRO Y AV PAVON', 'AUTOPISTA 9 DE JULIO SUR Y AV BRASIL',\n",
       "       'MIRAVE 3500', 'AV SAN JUAN Y 24 DE NOVIEMBRE',\n",
       "       'AV LAS HERAS Y SANCHEZ DE BUSTAMANTE',\n",
       "       'AV PIEDRA BUENA Y 2 DE ABRIL 1982',\n",
       "       'AV FIGUEROA ALCORTA  Y PINEDO',\n",
       "       'AU BUENOS AIRES - LA PLATA KM. 4', 'AV SAN MARTIN Y LADINES',\n",
       "       'AV CABILDO Y BLANCO ENCALADA',\n",
       "       'AV PRESIDENTE FIGUEROA ALCORTA Y AV DORREGO',\n",
       "       'AV JURAMENTO Y VUELTA DE OBLIGADO',\n",
       "       'AV DEL LIBERTADOR Y AV RAMOS MEJIA', 'AV. ALTE. BROWN 984',\n",
       "       'AV DEL LIBERTADOR Y LA PAMPA', 'PICHINCHA Y AV BRASIL',\n",
       "       'AV INDEPENDENCIA Y VIRREY CEVALLOS', 'AV GARMENDIA 4895',\n",
       "       'AV AMANCIO ALCORTA Y DIOGENES TABORDA', 'SD',\n",
       "       'AV PERITO MORENO Y ZUVIRIA', 'ARAOZ Y AV CORDOBA',\n",
       "       'AV GRAL PAZ 15200', 'MADERO 900', 'AV INDEPENDENCIA Y DEAN FUNES',\n",
       "       'AV JUAN B JUSTO 5645', 'AUTOPISTA PERITO MORENO ALTURA VELZ',\n",
       "       'AV SANTA FE Y GODOY CRUZ', 'AV FEDERICO LACROZE Y AV FOREST',\n",
       "       'AV GRAL PAZ Y AV GENERAL MOSCONI',\n",
       "       'AV LA PLATA Y CNEL GREGORIO POMAR', 'AV MARTIN GARCIA 300',\n",
       "       'NUÑEZ Y AV RICARDO BALBIN', 'AV GRAL PAZ 4500',\n",
       "       'AU BUENOS AIRES - LA PLATA Y AU 25 DE MAYO', 'AV GARAY Y CASTRO',\n",
       "       'AV DIRECTORIO Y AV SAN PEDRITO', 'AUTOPISTA 25 DE MAYO',\n",
       "       'CNEL RAMON L FALCON Y MEMBRILLAR', 'AV BELGRANO Y AV PASEO COLON',\n",
       "       'ARENALES 3319', 'REPUBLICA BOLIVARIANA DE VENEZUELA Y SAAVEDRA',\n",
       "       'AV. JUAN B JUSTO Y ACHUPALLAS', 'OLAVARRIA Y AV. VELEZ SARSFIELD',\n",
       "       'LIMA Y MEXICO', 'JOSE A CABRERA Y BONPLAND',\n",
       "       'AU 25 DE MAYO Y AV. BOEDO', 'AV. DIRECTORIO Y RIGLOS',\n",
       "       'AV. GRAL. PAZ Y AV. R. BALBIN', 'TRAFUL Y DIOGENES TABORDA',\n",
       "       'IRIARTE 3055', 'AV. DONADO Y ARIAS', 'CORDOBA AV. Y CALLAO',\n",
       "       'AU 25 DE MAYO, KILOMETRO 8.3, SENTIDO HACIA PROVINCIA DE BUENOS AIRES, C.A.B.A.',\n",
       "       'AV. JUAN B JUSTO Y PARAGUAY',\n",
       "       'AV. GRAL. PAZ Y AV. DE LOS CORRALES', 'SARMIENTO Y LIBERTAD',\n",
       "       'AV. RIVADAVIA 7121', 'AV. FERNANDEZ DE LA CRUZ Y RIVERA INDARTE',\n",
       "       'AV. PERITO MORENO Y FOURNIER', 'AV. CASEROS 1429',\n",
       "       'AV. GAONA Y FRAGATA SARMIENTO', 'MOZART Y TANDIL',\n",
       "       'MOZART Y COLECTORA AV. TTE. LUIS J DELLEPIANE',\n",
       "       '24 DE NOVIEMBRE Y PAVON ', 'AV. GRAL. PAZ Y PEDRO DE MENDOZA',\n",
       "       'AV. GRAL. PAZ KM. 10', 'GODOY CRUZ 2651',\n",
       "       'AV. DR. TRISTAN ACHAVAL RODRIGUEZ Y BLVD. AZUCENA VILLAFLOR',\n",
       "       'CURUPAYTI Y COLECTORA AV. GRAL. PAZ',\n",
       "       'AV. INDEPENDENCIA Y VIRREY CEVALLOS', 'AV. CASTAÑARES Y LAUTARO',\n",
       "       'CAMINO CIUDAD UNUVERSITARIA Y AV. TTE. GUIRALDES',\n",
       "       'BALDOMERO FERNANDEZ MORENO 2186', 'AV. LEOPOLDO LUGONES PKM 6900',\n",
       "       'NOGOYA 5940', 'AV. ARGENTINA Y AV. CORVALAN',\n",
       "       'AV. FERNANDEZ DE LA CRUZ Y VARELA',\n",
       "       'AU PERITO MORENO Y RAMAL ENLACE AU1/AU6', 'AU DELLEPIANE 2400',\n",
       "       'AV. GRAL. PAZ Y GOLETA JULIA', 'VIEYTES Y VILLARINO',\n",
       "       'AV. DE LOS CONSTITUYENTES Y PEDRO MORAN',\n",
       "       'AV. DE LOS CONSTITUYENTES 4900', 'AV. CORDOBA Y LIBERTAD',\n",
       "       'BRASIL Y LIMA', 'AV. ESCALADA Y AV. FERNANDEZ DE LA CRUZ',\n",
       "       'PARAGUAY Y AV. CALLAO ', 'AV. JUAN B JUSTO Y SAN BLAS',\n",
       "       'CHILE Y AV. 9 DE JULIO', 'MAIPU Y PERON', 'AV. SUAREZ Y HERRERA',\n",
       "       'AV. SAN MARTIN Y FRAGATA SARMIENTO',\n",
       "       'AV. DIRECTORIO Y AV. JOSE MARIA MORENO',\n",
       "       'AV. TTE. FRANCISCO RABANAL 2950',\n",
       "       'AV. GRAL. PAZ Y ULRICO SCHMIDL', 'NUEVA YORK  3696',\n",
       "       'AV. DE LOS CONSTITUYENTES Y VALLEJOS', 'AV. CORRIENTES Y ECUADOR',\n",
       "       'CASCO 133', 'AV. DE MAYO Y AV. 9 DE JULIO',\n",
       "       'AV. RAMON CASTILLO Y CALLE 12',\n",
       "       'FRAY JUSTO SANTAMARIA DE ORO 1930', 'MEXICO Y DEAN FUNES',\n",
       "       'AV. JUAN B ALBERDI Y AV. ESCALADA', 'AV. ENTRE RIOS Y AV. BRASIL',\n",
       "       'AV. JUAN B ALBERDI Y GUARDIA NACIONAL',\n",
       "       'AV. DEL LIBERTADOR Y RODRIGUEZ PEÑA',\n",
       "       'TACUARI Y AV. MARTIN GARCIA', 'AV. RIVADAVIA Y MURGUIONDO',\n",
       "       '24 DE NOVIEMBRE 390', 'AV. PASEO COLON Y BRASIL',\n",
       "       'MARTINIANO LEGUIZAMON 901',\n",
       "       'AV. CHIVILCOY Y COLECTORA AV. GRAL. PAZ ',\n",
       "       'SUPERI Y AV. GRAL. PAZ',\n",
       "       'AU 25 DE MAYO Y AU FRONDIZI (9 DE JULIO SUR)',\n",
       "       'AV. LEOPOLDO LUGONES KM 7,5, ALTURA PUENTE SCALABRINI ORTIZ, SENTIDO A CENTRO PORTEÑO',\n",
       "       'VICTOR HUGO 2639', 'AV. CORDOBA Y JERONIMO SALGUERO',\n",
       "       'AV. CABILDO Y NUÑEZ', 'JOSE BONIFACIO 2114',\n",
       "       'AV. PTE FIGUEROA ALCORTA 5400', 'VENEZUELA 2135',\n",
       "       'AV. FCO. LACROZE Y ZAPATA', 'IRIARTE Y ZAVALETA',\n",
       "       'AV. 9 DE JULIO Y ESTADOS UNIDOS',\n",
       "       'FRAY JUSTO SANTAMARIA DE ORO Y GUEMES',\n",
       "       'AV. DEL LIBERTADOR Y JARAMILLO', 'AV. GRAL. PAZ Y MACHAIN',\n",
       "       'AV. DIRECTORIO Y PORTELA', 'LAVALLE Y AV. LEANDRO N ALEM',\n",
       "       'USPALLATA Y PIROVANO', 'AU 25 DE MAYO Y AV. VARELA',\n",
       "       'AV. SANTA FE Y MAIPU', 'AV. ALVEAR Y AV. DEL LIBERTADOR',\n",
       "       'AV. PAVON Y TREINTA Y TRES ORIENTALES',\n",
       "       'COLECTORA AV. GRAL. PAZ 5750', 'VIEYTES Y CRUZ',\n",
       "       'AU DELLEPIANE Y AV. ESCALADA', 'ALBARIÑO Y AV. ARGENTINA',\n",
       "       'JUAN RAMIREZ DE VELAZCO 1211',\n",
       "       'AV. FERNANDEZ DE LA CRUZ Y LARRAYA',\n",
       "       'AV. RIESTRA Y CAÑADA DE GOMEZ', 'GALLO Y AV. CORDOBA',\n",
       "       'DR. JUAN F. ARANGUREN 611', 'AU PERITO MORENO Y AU 25 DE MAYO',\n",
       "       'CHORROARIN Y AV. SAN MARTIN', 'COSQUIN Y AV. CNEL. ROCA',\n",
       "       'AV. CNEL. ROCA 3555', 'AV. WARNES Y PUNTA ARENAS',\n",
       "       'DEL BARCO CENTENERA Y RABANAL',\n",
       "       'AV. GRAL. ENRIQUE MOSCONI Y SAN NICOLAS',\n",
       "       'AV. LAFUENTE Y AV. EVA PERON', 'AV. CNEL. ROCA Y AV. ESCALADA',\n",
       "       'AU ARTURO FRONDIZI PKM 3100', 'AV. LA PLATA Y AV. PEDRO GOYENA',\n",
       "       'TRELLES Y GRAL. CESAR DIAZ',\n",
       "       'AV. CNEL. ROCA Y COLECTORA AV. GRAL. PAZ', 'MAZA Y DON BOSCO',\n",
       "       'AV. GRAL. PAZ Y AV. EVA PERON', 'AV. SAN JUAN Y LA RIOJA',\n",
       "       'AV. PASEO COLON Y MEXICO', 'AV. RIVADAVIA Y MIRALLA',\n",
       "       'VIEYTES Y LUJAN', 'CACHI Y TRAFUL', 'ROSARIO Y AV. LA PLATA',\n",
       "       'AV. ENTRE RIOS Y AV. CASEROS ', 'AV. RIVADAVIA 6350',\n",
       "       'AV. GRAL. PAZ Y HUMAITA', 'GUALEGUAYCHU Y COLECTORA AV. GRAL PAZ',\n",
       "       'AV. NAZCA 365', 'AV. EVA PERON 5249', 'San Juan Av. Y Rincón',\n",
       "       'Peru 937', 'Pueyrredon, Honorio, Dr. Av. y Galicia',\n",
       "       'Del Libertador Av. y Manzanares', 'Paseo Colon Av. 1019',\n",
       "       'Valle y Barco Centenera Del', 'AU Perito Moreno  KM 0.6',\n",
       "       'Huergo, Ing. Av. e Independencia Av.',\n",
       "       'Pilcomayo y Brown, Alte. Av.',\n",
       "       'Cervantes y Belaustegui, Luis, Dr.', 'Callao y Vte. Lopez',\n",
       "       'Oliden y Chilavert, Martiniano, Coronel', 'Congreso Av. y Galvan',\n",
       "       'Moreno, Perito Av. y Rivera Indarte', 'Australia Av. 2800',\n",
       "       'Del Libertador Av. y Ramos Mejia, Jose Maria, Dr. Av.',\n",
       "       'San Pedrito Av. y Rivadavia Av.',\n",
       "       'Isabel La Catolica y Salvadores, Cnel.',\n",
       "       'Las Heras General Av. y Callao Av.',\n",
       "       'Fernandez de la Cruz Subida AU Héctor J. Cámpora',\n",
       "       'AMANCIO ALCORTA Y ZAVALETA', 'Montes De Oca, Manuel y Olavarria',\n",
       "       'Barco Centenera Del y Rosario', 'Alvarez Thomas Av. y Donado',\n",
       "       'Av. Avellaneda y Av. Boyacá',\n",
       "       'Rabanal, Francisco, Intendente Av. y Saenz Av.',\n",
       "       'Castro y Rondeau', 'Bilbao, Francisco Av. y Azul',\n",
       "       'Nazca Av. y Gaona Av.', 'Plaza y Alvarez Thomas Av.',\n",
       "       'Gaona Av. y Artigas, Jose Gervasio, Gral.',\n",
       "       'Cabildo Av. y Aguilar', 'Camarones y Lope De Vega Av.',\n",
       "       'Santa Fe Av. 2320', 'Av. Rivadavia 6950',\n",
       "       'Av. San Martín y Argerich',\n",
       "       'Cordoba Av. y Uriburu Jose E., Pres.', 'AV. RIVADAVIA 1571',\n",
       "       'AUTOPISTA LUGONES KM 4.7',\n",
       "       'Ramon Freire y Virrey Olaguer y Feliu',\n",
       "       'La Plata Av. y Fernandez De La Cruz, F., Gral. Av.',\n",
       "       'BRANDSEN y PERDRIEL', 'Vilardebo, Teodoro y Alvarez Jonte Av.',\n",
       "       'Alberti e Independencia Av.', 'Alvarez Thomas Av. 879',\n",
       "       'Av. Gral. Paz y Av. Rivadavia', 'Av. Corrientes y Av. Dorrego',\n",
       "       'Rivadavia Av. y Pedernera', 'Quesada 2300',\n",
       "       'Cabildo Av. y Juramento Av.',\n",
       "       'California y Carbonari, Francisco, Cmte.',\n",
       "       'Carril, Salvador Maria Del Av. y Nazca', 'San Luis y Aguero',\n",
       "       'Lugones 2430', 'Independencia Av. y Jujuy Av.',\n",
       "       'Av. Rivadavia 11050', 'Combate De Los Pozos y Humberto 1°',\n",
       "       'Cordoba Av. y Thames', 'Garay, Juan De Av. y Sanchez De Loria',\n",
       "       'Lavalle y Alem, Leandro N. Av.', 'Estados Unidos y Pichincha',\n",
       "       'Rosario y Barco Centenera Del', 'Av. Leandro N. Alem y Viamonte',\n",
       "       'Varela Av. y Primera Junta', 'Pellegrini, Carlos y Juncal',\n",
       "       'Av. Corrientes y Av. Federico Lacroze',\n",
       "       'Montes De Oca, Manuel y Finochietto Enrique Dr.',\n",
       "       'Carabobo Av. y Alberdi, Juan Bautista Av.',\n",
       "       'Córdoba Av. 2215\\n\\n', 'Estados Unidos y Urquiza, Gral.',\n",
       "       'Moreno y Av. Huergo',\n",
       "       'AU Dellepiane kilometro 0.0, altura calle Montiel, sentido hacia el Centro Porteño',\n",
       "       'Iriarte, Gral. Av. 3400', 'AV. JUAN B. ALBERDI 2968',\n",
       "       'Del Libertador Av. y Ortiz De Ocampo',\n",
       "       'Chavez, Jorge y Paz, Gral. Av.',\n",
       "       'Urquiza, Gral. y Estados Unidos',\n",
       "       'Paraguay y Sánchez De Bustamante',\n",
       "       'De Los Corrales Av. y Paz, Gral. Av.',\n",
       "       'Alberdi, Juan Bautista Av. y Carhue',\n",
       "       'Castañares Av. y Rivera Indarte Av.',\n",
       "       'Larrazabal y Garzon, Eugenio, Gral. Av.',\n",
       "       'Paz, Gral. Av. y Fernandez De La Cruz, F., Gral. Av.',\n",
       "       'Av. Alicia Moreau de Justo y Cochabamba',\n",
       "       'Entre Rios Av. y Garay, Juan De Av.',\n",
       "       'Directorio Av. y Guardia Nacional', 'Pavon Av. Y Colombres',\n",
       "       'Av. Gral. Paz y Av. Dr. Ricardo Balbín', 'Pichincha Av. y Brasil',\n",
       "       '27 De Febrero Av. y Pergamino',\n",
       "       'AU Perito Moreno KM 1.8 ALTURA BARRAGAN SENTIDO PBA',\n",
       "       'Cordoba Av. y Gascon', '15 De Noviembre De 1889 1513',\n",
       "       'Salguero, Jeronimo y Beruti',\n",
       "       'Lacarra Av. y Dellepiane, Luis, Tte. Gral.',\n",
       "       'AU Héctor J. Cámpora y Roca, Cnel. Av.',\n",
       "       'Av. Varela y Av. Int. Francisco Rabanal',\n",
       "       'Av. Gral. Paz e/ Ferre y Beron de Astrada',\n",
       "       'Elvira Rawson de Dellepiane 150', 'Paz, Gral. Av. y Zapiola',\n",
       "       'FAMATINA Y DIOGENES TABORDA', 'Av. Castañares y Bonorino',\n",
       "       'AU Frondizi 9 de Julio Sur y Av. Suarez',\n",
       "       'Nazca Av. y Rivadavia Av.',\n",
       "       'Figueroa Alcorta, Pres. Av. y Echeverria',\n",
       "       'Rivadavia Av. y Jujuy Av.',\n",
       "       'De Los Italianos Av. y Guemes, Macacha',\n",
       "       'Tucuman y Alem, Leandro N. Av.',\n",
       "       'Corrientes Av. y Gallardo, Angel Av.',\n",
       "       'AU Perito Moreno y Av. Eva Perón SENTIDO CENTRO',\n",
       "       'Muñecas y Serrano',\n",
       "       'Artigas, Jose Gervasio, Gral. y Tres Arroyos',\n",
       "       'Solis e Independencia Av.', 'Bosch, Ventura y Paz, Gral. Av.',\n",
       "       'Paz, Gral. Av. 14800', 'Av. Eva Perón 5321',\n",
       "       'Peron, Juan Domingo, Tte. General y Pueyrredon Av.',\n",
       "       'Rabanal y San Pedrito', 'Monroe y Alvarez Thomas Av.',\n",
       "       'Rivadavia Av. y Manzoni',\n",
       "       'AU Dellepiane Luis Tte. Gral. y Larrazabal',\n",
       "       'Paz, Gral. Av. y Peron, Eva Av.',\n",
       "       'AU Perito Moreno y Reservistas Argentinos', 'Saenz Av. y Ventana',\n",
       "       'Avda. General Paz y Cnel. Ramón Falcón',\n",
       "       'Av. Gral. Paz y Av. de los Constituyentes',\n",
       "       'Paz, Gral. Av. 11200', 'Newbery, Jorge Av. y Guevara',\n",
       "       'Gaona Av. y Segurola Av.', 'Madero, Eduardo Av. 550',\n",
       "       'AU Arturo Illia y Castillo, Ramon S.',\n",
       "       'La Plata Av. y Caseros Av.', 'Belgrano Av. y Peru',\n",
       "       'Rivadavia Av. 7013', 'Adolfo Alsina y Santiago del Estero',\n",
       "       'Bermudez 1893', 'Santander 1974', 'Julieta Lanteri 1400',\n",
       "       'Maza y Av. Independencia', 'PAZ, GRAL. AV. 5172',\n",
       "       'Olivera Av. y Alberdi, Juan Bautista Av.',\n",
       "       'CASTILLO, RAMON S., PRES. AV. Y CALLE 12',\n",
       "       'CASTAÑARES AV. Y MORENO, PERITO AV.', 'SAN MARTIN AV. Y TERRADA',\n",
       "       'PERON, EVA AV. Y MEDINA',\n",
       "       'JUSTO, JUAN B. AV. Y ALVAREZ JONTE AV.',\n",
       "       'OBLIGADO RAFAEL, AV. COSTANERA 4650', 'MITRE, BARTOLOME Y YATAY',\n",
       "       'PAZ, GRAL. AV. 16080', 'CHACABUCO Y SAN JUAN AV.',\n",
       "       'DEL LIBERTADOR AV. 4100',\n",
       "       'PAZ, GRAL. AV. Y ALBERDI, JUAN BAUTISTA AV.',\n",
       "       'CASTAÑARES AV. Y GORDILLO, TIMOTEO', 'SALVIGNY Y MOM',\n",
       "       'LAMARCA, EMILIO 5402', 'SAN MARTIN AV. 5638',\n",
       "       'CARRILLO, RAMON, DR. Y FINOCHIETTO ENRIQUE DR.',\n",
       "       'MEXICO Y PICHINCHA', 'CANTILO, INT. Y UDAONDO, GUILLERMO AV.',\n",
       "       'DEL LIBERTADOR AV. 6326', 'CHICLANA AV. 3444',\n",
       "       'BOYACA AV. Y YERBAL',\n",
       "       'ENTRE RIOS AV. BAJO PUENTE AUTOPISTA (1260 APROX)',\n",
       "       'PAZ, GRAL. AV. Y JACQUES, AMADEO', 'ANTARTIDA ARGENTINA AV. 1325',\n",
       "       'MITRE, BARTOLOME Y SANCHEZ DE BUSTAMANTE',\n",
       "       'FERNANDEZ DE LA CRUZ, F. , GRAL. AV. Y LARRAZABAL',\n",
       "       'SANTA FE AV. Y AZCUENAGA', 'JUSTO, JUAN B. AV. y OROÑO, NICASIO',\n",
       "       'FERNANDEZ DE LA CRUZ, F. , GRAL. AV. Y LACARRA AV.',\n",
       "       'ALVAREZ, DONATO, TTE. GRAL. Y YERBAL',\n",
       "       'CORDOBA AV. Y MADERO, EDUARDO AV.',\n",
       "       'CAMARONES Y ALVAREZ, DONATO, TTE. GRAL. AV.',\n",
       "       'AUTOPISTA 25 DE MAYO Y HUERGO, ING. AV.',\n",
       "       'MORENO, PERITO AV. 3050', 'SUIPACHA 665', 'RIGLOS Y FORMOSA',\n",
       "       'LA RIOJA E INDEPENDENCIA AV.',\n",
       "       'UDAONDO, GUILLERMO AV. Y FIGUEROA ALCORTA, PRES. AV.',\n",
       "       'SAN PEDRITO AV. Y DIRECTORIO AV.', 'PUAN Y SANTANDER',\n",
       "       'ALBERDI, JUAN BAUTISTA AV. Y ANDALGALA', 'LIMA Y CONSTITUCION',\n",
       "       'BOEDO AV. 650', 'DEL LIBERTADOR AV. Y REPUBLICA DE LA INDIA',\n",
       "       'GRAL PAZ Y CABILDO', 'CASEROS AV. 1700', 'AVELLANEDA AV. 1548',\n",
       "       'CIUDAD DE LA PAZ Y MENDOZA', 'SALGUERO, JERONIMO Y HONDURAS AV.',\n",
       "       'FILIBERTO, JUAN DE DIOS Y OLAVARRIA',\n",
       "       'ASTURIAS AV. Y CASTAÑARES AV.', 'GANDARA 2976',\n",
       "       'GUEVARA, TRINIDAD Y MADERO, EDUARDO AV.', 'BOYACA AV. 305',\n",
       "       'ARTILLEROS Y LA PAMPA',\n",
       "       'AUTOPISTA PERITO MORENO ALTURA PASO A NIVEL DE IRIGOYEN',\n",
       "       '15 DE NOVIEMBRE DE 1889 Y SANTIAGO DEL ESTERO',\n",
       "       'ACOSTA, MARIANO AV. Y FALCON, RAMON L., CNEL.',\n",
       "       '11 DE SEPTIEMBRE DE 1888 Y MENDOZA',\n",
       "       'PINO, VIRREY DEL Y CAMPOS, LUIS M. AV.', 'FOREST AV. Y MAURE',\n",
       "       'BOYACA AV. Y AVELLANEDA AV,', 'BARCO CENTENERA DEL Y TILCARA',\n",
       "       'RIESTRA AV. Y BOLIVAR', 'CASTRO, EMILIO 4706',\n",
       "       '27 DE FEBRERO AV. 5600', 'GARAY, JUAN DE AV. 2874',\n",
       "       'SCALABRINI ORTIZ, RAUL AV. y GORRITI',\n",
       "       'PRIMERA JUNTA Y OLIVERA AV.', 'ALBERDI, JUAN BAUTISTA AV. Y AZUL',\n",
       "       'ALVAREZ THOMAS AV. 1788',\n",
       "       'LUGONES, LEOPOLDO AV. Y PAZ, GRAL. AV.', 'SAN ANTONIO Y LUJAN',\n",
       "       'AUTOPISTA 1 SUR PRESIDENTE ARTURO FRONDIZI ALTURA DON PEDRO DE MENDOZA AV.',\n",
       "       'FIGUEROA ALCORTA, PRES. AV. Y TAGLE',\n",
       "       'EINSTEIN, ALBERTO Y ALCORTA, AMANCIO AV.', 'AGRELO Y COLOMBRES',\n",
       "       'CABILDO AV. y PAZ, GRAL. AV.', 'ELCANO AV. 4300',\n",
       "       'RABANAL, FRANCISCO, INTENDENTE AV. 2428', 'MONTE Y CORVALAN',\n",
       "       'TANDIL Y LA FUENTE', 'CARDOSO Y BACACAY', 'CORRIENTES AV. 6700',\n",
       "       'ALVAREZ THOMAS AV. Y MENDOZA',\n",
       "       'ALCORTA, AMANCIO AV. Y BONAVENA, OSCAR NATALIO',\n",
       "       'BROWN, ALTE. AV. Y BLANES, JUAN MANUEL',\n",
       "       'ALBERDI, JUAN BAUTISTA AV. 5455', 'JUSTO, JUAN B. AV. Y CAMARGO',\n",
       "       'BRIN, MINISTRO Y SUAREZ', 'NIZA Y JUSTO, JUAN B. AV.',\n",
       "       'CAMARGO Y SERRANO',\n",
       "       'AUTOPISTA 1 SUR PRESIDENTE ARTURO FRONDIZI ALTURA CASEROS AV.',\n",
       "       'CASEROS AV. Y PIEDRAS', 'AUTOPISTA PERITO MORENO KM 5,6',\n",
       "       'GUZMAN 365', 'de los constituyentes av. 4300',\n",
       "       'MORENO, PERITO AV. Y TILCARA AV.', 'IBARROLA Y GORDILLO, TIMOTEO',\n",
       "       'PAZ, GRAL. AV. Y GRIVEO', 'RIVADAVIA AV. Y PERGAMINO',\n",
       "       'SANTO TOME Y SEGUROLA AV.', 'URIARTE Y LOYOLA',\n",
       "       'SARAZA Y VARELA AV.', 'RIVADAVIA AV. Y COMBATE DE LOS POZOS',\n",
       "       'RODRIGUEZ PEÑA Y RIVADAVIA AV.', '24 DE NOVIEMBRE Y SAN JUAN AV.',\n",
       "       'LAFUENTE AV. 2250', 'CHILE Y LIMA ', 'CORDOBA AV. Y JEAN JAURES',\n",
       "       'PERON, JUAN DOMINGO, TTE. GENERAL Y SALGUERO, JERONIMO',\n",
       "       '9 DE JULIO AV. Y SAN JUAN AV.', 'COLOMBRES 466', 'MEXICO 2860',\n",
       "       'COMBATIENTES DE MALVINAS AV. Y TRIUNVITARO AV.',\n",
       "       'BERMUDEZ Y NOGOYA', 'BRASIL AV. Y PASEO COLON AV.',\n",
       "       'ALEM,LEANDRO N. AV. 770', 'BELGRANO AV. Y RINCON',\n",
       "       'UDAONDO, GUILLERMO AV. 901', 'CONSTITUCION Y CASTRO',\n",
       "       'PUEYRREDON AV. Y GOMEZ, VALENTIN', 'BRAVO, MARIO 1279',\n",
       "       'DELLEPIANE, LUIS, TTE. GRAL. Y ESCALADA AV.',\n",
       "       'ARAOZ DE LAMADRID, GREGORIO, GRAL. Y BROWN, ALTE. AV.',\n",
       "       'MURGUIONDO 1339', 'RIVADAVIA AV. 2551',\n",
       "       'LUGONES, LEOPOLDO AV. KM 6,1',\n",
       "       'DELLEPIANE, LUIS, TTE. GRAL. Y MONTIEL',\n",
       "       'SCALABRINI ORTIZ, RAUL AV. Y WARNES AV.',\n",
       "       'PAZ, GRAL. AV. y ROFFO, ANGEL H., DR.', 'SAN MARTIN AV. 1550',\n",
       "       'GARZON, EUGENIO, GRAL. AV. y LARRAYA', 'CORRIENTES AV. Y SERRANO',\n",
       "       'PAZ, GRAL. AV. Y DEL LIBERTADOR AV.',\n",
       "       'MITRE, BARTOLOME Y ANCHORENA, TOMAS MANUEL DE, DR.',\n",
       "       'AU 25 DE MAYO ALTURA PUMACAHUA Y RECUERO, CASIMIRO, TTE. CNEL.',\n",
       "       'SCALABRINI ORTIZ, RAUL AV. Y PARAGUAY',\n",
       "       'FERNANDEZ DE LA CRUZ, F., GRAL. AV. Y VARELA AV.',\n",
       "       'LAS HERAS GENERAL AV. Y DIAZ, CNEL. AV.', 'MURGUIONDO 2700',\n",
       "       'CURAPALIGUE Y PERON, EVA AV.',\n",
       "       'DIAZ, ANA Y SOLDADO DE LA FRONTERA AV.',\n",
       "       'ALEM, LEANDRO N. AV. Y PARAGUAY', 'LA PLATA AV. E INDEPENDENCIA',\n",
       "       'PAZ, GRAL. AV. Y 27 DE FEBRERO AV.',\n",
       "       'NAZCA AV. Y CARRANZA, ADOLFO P.',\n",
       "       'AUTOPISTA CAMPORA ALTURA LACARRA AV.', 'DORREGO AV. 614',\n",
       "       'DEL LIBERTADOR AV. Y RAMOS MEJIA, JOSE MARIA, DR. AV.',\n",
       "       'SANTA FE AV. Y GODOY CRUZ', 'AVELLANEDA AV. Y MERCEDES',\n",
       "       'TUCUMAN Y PUEYRREDON AV.',\n",
       "       'ALCORTA, AMANCIO AV. Y EINSTEIN, ALBERTO', 'INCLAN Y ALBERTI',\n",
       "       'OLAZABAL AV. 5437', 'PAZ, GRAL. AV. Y DOCTOR RAMON CARRILLO',\n",
       "       'NAZCA AV. Y VIALE, LUIS', 'OLIVERA AV. Y FALCON, RAMON L., CNEL.',\n",
       "       'BRASIL 1100', 'HOMERO Y PERON, EVA AV.', 'MORENO 1845',\n",
       "       'NUEVA YORK Y ALTA GRACIA',\n",
       "       'PAZ, GRAL. AV. Y GOYENECHE, ROBERTO PARQUE AV.',\n",
       "       'AUTOPISTA PERITO MORENO ALTURA ESTACION DE TREN VILLA LURO',\n",
       "       'SAENZ AV. Y BEAZLEY', 'DEL LIBERTADOR AV. Y AUSTRIA',\n",
       "       'INDEPENDENCIA AV. Y SAENZ PEÑA, LUIS, PRES.',\n",
       "       'CALLAO AV. Y LAS HERAS, GENERAL', 'JUJUY AV. Y CARLOS, CALVO',\n",
       "       '27 DE FEBRERO AV. Y ESCALADA AV.', 'BOGOTA Y NAZCA AV.',\n",
       "       'CORRIENTES AV. Y 9 DE JULIO AV.', 'ALVAREZ JONTE AV. Y CHIVILCOY',\n",
       "       'SAN MARTIN AV. Y PUNTA ARENAS', 'BARCO CENTENERA DEL 1118',\n",
       "       'PAZ, GRAL. AV. Y ACCESO NORTE - PANAMERICANA',\n",
       "       'AU FRONDIZI KM. 3', 'CASTRO, EMILIO AV. Y MURGUIONDO',\n",
       "       'AU 25 DE MAYO KM. 3,7', 'CASEROS AV. Y GUARANI',\n",
       "       'PERON, EVA AV. 3800', 'AU ILLIA y SARMIENTO AV.',\n",
       "       'DE LOS CONSTITUYENTES AV. Y GIRIBONE',\n",
       "       'SAENZ AV. Y RABANAL, FRANCISCO, INTENDENTE AV.',\n",
       "       'PAYSANDU Y GAONA', 'PAZ, GRAL. AV. Y BALBIN, RICARDO, DR. AV. ',\n",
       "       'SANTA FE AV. 1675', 'AU DELLEPIANE Y GUAMINI',\n",
       "       'FALCON, RAMON L., CNEL. Y OLIVERA AV.', 'SAN MARTIN AV. Y NOGOYA',\n",
       "       'SAN MARTIN AV. Y TINOGASTA',\n",
       "       'FERNANDEZ DE LA CRUZ, F., GRAL. AV. Y DE LA TORRE, LISANDRO',\n",
       "       'SALTA Y CASEROS AV.',\n",
       "       'JAURES, JEAN Y PERON, JUAN DOMINGO, TTE. GENERAL',\n",
       "       'TRIUNVIRATO AV. Y LARRALDE, CRISOLOGO AV.', 'POTOSI Y GASCON',\n",
       "       'YRIGOYEN, HIPOLITO Y  24 DE NOVIEMBRE',\n",
       "       'DEL LIBERTADOR AV. Y ROOSEVELT FRANKLIN D.',\n",
       "       'AU BUENOS AIRES LA PLATA  KM 4,5',\n",
       "       'PERON, EVA AV. y PIEDRA BUENA AV',\n",
       "       'PAZ, GRAL. AV. y DELLEPIANE, LUIS, TTE. GRAL',\n",
       "       'AU FRONDIZI ALTURA QUINQUELA MARTIN, BENITO',\n",
       "       'PAZ, GRAL. AV. y DONADO', 'COREA AV. y TORRES Y TENORIO, PRES',\n",
       "       'FALCON, RAMON L., CNEL. Y SAN PEDRITO AV.',\n",
       "       'FINOCHIETTO ENRIQUE DR. 1623',\n",
       "       '9 DE JULIO AV. E INDEPENDENCIA AV.',\n",
       "       'AU CANTILO Y GUIRALDES, INT.',\n",
       "       'AU 25 DE MAYO ALTURA BAJADA BOEDO AV.',\n",
       "       'ALCORTA, AMANCIO AV. y ZAVALETA',\n",
       "       'JANER, ANA MARIA Y LAFUENTE AV.',\n",
       "       'PAZ, GRAL. AV. Y MOSCONI GENERAL AV.',\n",
       "       'MONROE Y BALBIN, RICARDO, DR. AV.',\n",
       "       'JUSTO, JUAN B. AV. Y SANTA FE AV.',\n",
       "       'OLIDEN Y ALBERDI, JUAN BAUTISTA AV.',\n",
       "       'DEL LIBERTADOR AV. Y CASARES AV.', 'RIVADAVIA AV. 10900',\n",
       "       'ALBERDI, JUAN BAUTISTA AV. Y PILAR',\n",
       "       'PERON, EVA AV. Y ACOSTA, MARIANO', 'AU FRONDIZI Y SUAREZ AV.',\n",
       "       'EL CANO AV. Y GUZMAN AV.',\n",
       "       'VEDIA, AGUSTIN DE Y RABANAL, FRANCISCO, INTENDENTE AV.',\n",
       "       'CAPDEVILLA Y CONGRESO AV.',\n",
       "       'FERNANDEZ DE LA CRUZ, F., GRAL. AV. 4000',\n",
       "       'DEL LIBERTADOR AV. 5958', '27 DE FEBRERO AV. Y EREZCANO AV.',\n",
       "       'PAZ, GRAL. AV. 14723', 'CORRIENTES AV. 5783', 'TABARE Y EREZCANO',\n",
       "       'CORRIENTES AV. Y PUEYRREDOR AV.', 'CORRALES Y MORENO, PERITO AV.',\n",
       "       'AU ILLIA KM 3.2, ALTURA CABINAS DE PEAJE',\n",
       "       'AV. GRAL. PAZ Y VEDIA', 'GARAY, JUAN DE AV. 2269',\n",
       "       'SALGUERO, JERONIMO Y RIVADAVIA AV.',\n",
       "       'MORENO, PERITO AV. Y ALCORTA, AMANCIO AV.', 'LA PLATA AV. 2723',\n",
       "       'ALBERDI, JUAN BAUTISTA AV. 2906', 'PAZ, GRAL. AV. Y TONELERO',\n",
       "       'Av. SAN JUAN Y AV. LA PLATA', 'Av. LOPE DE VEGA Y AV. GRAL. PAZ',\n",
       "       'AU FRONDIZI KM 2,9 (ALTURA BRASIL)', 'BEIRO, FRANCISCO AV. 5071',\n",
       "       'AV. SANTA FE 3428', 'CHILAVERT, MARTINIANO, CORONEL Y VARELA AV.',\n",
       "       'SAN LUIS 2730', 'CALLAO AV. Y PARAGUAY',\n",
       "       'DEL LIBERTADOR AV. Y AGOTE, LUIS DR.',\n",
       "       'PAZ, GRAL. AV. Y BALBIN, RICARDO, DR. AV.', 'SALTA Y BRASIL',\n",
       "       'MORENO, PERITO AV. 2152', 'DIRECTORIO AV. 1169',\n",
       "       'INDEPENDENCIA AV. Y LA PLATA AV.', 'TUCUMAN 3112',\n",
       "       'ARENALES Y 9 DE JULIO AV.', 'AU FRONDIZI SUBIDA BRANDSEN',\n",
       "       'AU 25 DE MAYO KM7 (ALTURA PASCO)', 'CABILDO AV. Y OLAZABAL',\n",
       "       'TAPALQUE Y BRUIX AV.', 'PAZ, GRAL. AV. Y EZEIZA',\n",
       "       'RIVADAVIA AV. Y PUAN', 'ESMERALDA 1359',\n",
       "       'AV. MOROE Y 3 DE FEBRERO', 'AV. GAONA 3655',\n",
       "       'AV. 9 DE JULIO Y LAVALLE', 'BAIGORRIA Y VICTOR HUGO',\n",
       "       'AV. RIVADAVIA Y AV. PUEYRREDON', 'AV. RIESTRA Y MOM',\n",
       "       'AU DELLEPIANE Y LACARRA', 'AV. GAONA Y TERRADA',\n",
       "       'AV. EVA PERON 4071', 'PADRE CARLOS MUJICA 709'], dtype=object)"
      ]
     },
     "execution_count": 7,
     "metadata": {},
     "output_type": "execute_result"
    }
   ],
   "source": [
    "df_hechos['LUGAR_DEL_HECHO'].unique()"
   ]
  },
  {
   "cell_type": "code",
   "execution_count": 9,
   "metadata": {},
   "outputs": [],
   "source": [
    "lugares = df_hechos['LUGAR_DEL_HECHO'].value_counts()"
   ]
  },
  {
   "cell_type": "code",
   "execution_count": 13,
   "metadata": {},
   "outputs": [
    {
     "data": {
      "text/plain": [
       "<bound method NDFrame.describe of LUGAR_DEL_HECHO\n",
       "AV 27 DE FEBRERO Y AV ESCALADA              4\n",
       "CASTILLO, RAMON S., PRES. AV. Y CALLE 12    2\n",
       "PAZ, GRAL. AV. Y DEL LIBERTADOR AV.         2\n",
       "AV LA PLATA Y CNEL GREGORIO POMAR           2\n",
       "CANTILO, INT. Y UDAONDO, GUILLERMO AV.      2\n",
       "                                           ..\n",
       "AV. ALVEAR Y AV. DEL LIBERTADOR             1\n",
       "AV. PAVON Y TREINTA Y TRES ORIENTALES       1\n",
       "COLECTORA AV. GRAL. PAZ 5750                1\n",
       "VIEYTES Y CRUZ                              1\n",
       "PADRE CARLOS MUJICA 709                     1\n",
       "Name: count, Length: 683, dtype: int64>"
      ]
     },
     "execution_count": 13,
     "metadata": {},
     "output_type": "execute_result"
    }
   ],
   "source": [
    "lugares.describe"
   ]
  },
  {
   "cell_type": "code",
   "execution_count": 14,
   "metadata": {},
   "outputs": [
    {
     "ename": "KeyError",
     "evalue": "False",
     "output_type": "error",
     "traceback": [
      "\u001b[1;31m---------------------------------------------------------------------------\u001b[0m",
      "\u001b[1;31mKeyError\u001b[0m                                  Traceback (most recent call last)",
      "File \u001b[1;32mc:\\Users\\Cecilia\\AppData\\Local\\Programs\\Python\\Python311\\Lib\\site-packages\\pandas\\core\\indexes\\base.py:3653\u001b[0m, in \u001b[0;36mIndex.get_loc\u001b[1;34m(self, key)\u001b[0m\n\u001b[0;32m   3652\u001b[0m \u001b[39mtry\u001b[39;00m:\n\u001b[1;32m-> 3653\u001b[0m     \u001b[39mreturn\u001b[39;00m \u001b[39mself\u001b[39;49m\u001b[39m.\u001b[39;49m_engine\u001b[39m.\u001b[39;49mget_loc(casted_key)\n\u001b[0;32m   3654\u001b[0m \u001b[39mexcept\u001b[39;00m \u001b[39mKeyError\u001b[39;00m \u001b[39mas\u001b[39;00m err:\n",
      "File \u001b[1;32mc:\\Users\\Cecilia\\AppData\\Local\\Programs\\Python\\Python311\\Lib\\site-packages\\pandas\\_libs\\index.pyx:147\u001b[0m, in \u001b[0;36mpandas._libs.index.IndexEngine.get_loc\u001b[1;34m()\u001b[0m\n",
      "File \u001b[1;32mc:\\Users\\Cecilia\\AppData\\Local\\Programs\\Python\\Python311\\Lib\\site-packages\\pandas\\_libs\\index.pyx:176\u001b[0m, in \u001b[0;36mpandas._libs.index.IndexEngine.get_loc\u001b[1;34m()\u001b[0m\n",
      "File \u001b[1;32mpandas\\_libs\\hashtable_class_helper.pxi:7080\u001b[0m, in \u001b[0;36mpandas._libs.hashtable.PyObjectHashTable.get_item\u001b[1;34m()\u001b[0m\n",
      "File \u001b[1;32mpandas\\_libs\\hashtable_class_helper.pxi:7088\u001b[0m, in \u001b[0;36mpandas._libs.hashtable.PyObjectHashTable.get_item\u001b[1;34m()\u001b[0m\n",
      "\u001b[1;31mKeyError\u001b[0m: False",
      "\nThe above exception was the direct cause of the following exception:\n",
      "\u001b[1;31mKeyError\u001b[0m                                  Traceback (most recent call last)",
      "\u001b[1;32mc:\\Users\\Cecilia\\Documents\\francisco\\henry\\proyecto_final_2b\\codigo\\diciembre_4.ipynb Cell 45\u001b[0m line \u001b[0;36m1\n\u001b[1;32m----> <a href='vscode-notebook-cell:/c%3A/Users/Cecilia/Documents/francisco/henry/proyecto_final_2b/codigo/diciembre_4.ipynb#X62sZmlsZQ%3D%3D?line=0'>1</a>\u001b[0m numero_lugares \u001b[39m=\u001b[39m lugares[[lugares]\u001b[39m==\u001b[39;49m\u001b[39m2\u001b[39;49m]\n",
      "File \u001b[1;32mc:\\Users\\Cecilia\\AppData\\Local\\Programs\\Python\\Python311\\Lib\\site-packages\\pandas\\core\\series.py:1007\u001b[0m, in \u001b[0;36mSeries.__getitem__\u001b[1;34m(self, key)\u001b[0m\n\u001b[0;32m   1004\u001b[0m     \u001b[39mreturn\u001b[39;00m \u001b[39mself\u001b[39m\u001b[39m.\u001b[39m_values[key]\n\u001b[0;32m   1006\u001b[0m \u001b[39melif\u001b[39;00m key_is_scalar:\n\u001b[1;32m-> 1007\u001b[0m     \u001b[39mreturn\u001b[39;00m \u001b[39mself\u001b[39;49m\u001b[39m.\u001b[39;49m_get_value(key)\n\u001b[0;32m   1009\u001b[0m \u001b[39mif\u001b[39;00m is_hashable(key):\n\u001b[0;32m   1010\u001b[0m     \u001b[39m# Otherwise index.get_value will raise InvalidIndexError\u001b[39;00m\n\u001b[0;32m   1011\u001b[0m     \u001b[39mtry\u001b[39;00m:\n\u001b[0;32m   1012\u001b[0m         \u001b[39m# For labels that don't resolve as scalars like tuples and frozensets\u001b[39;00m\n",
      "File \u001b[1;32mc:\\Users\\Cecilia\\AppData\\Local\\Programs\\Python\\Python311\\Lib\\site-packages\\pandas\\core\\series.py:1116\u001b[0m, in \u001b[0;36mSeries._get_value\u001b[1;34m(self, label, takeable)\u001b[0m\n\u001b[0;32m   1113\u001b[0m     \u001b[39mreturn\u001b[39;00m \u001b[39mself\u001b[39m\u001b[39m.\u001b[39m_values[label]\n\u001b[0;32m   1115\u001b[0m \u001b[39m# Similar to Index.get_value, but we do not fall back to positional\u001b[39;00m\n\u001b[1;32m-> 1116\u001b[0m loc \u001b[39m=\u001b[39m \u001b[39mself\u001b[39;49m\u001b[39m.\u001b[39;49mindex\u001b[39m.\u001b[39;49mget_loc(label)\n\u001b[0;32m   1118\u001b[0m \u001b[39mif\u001b[39;00m is_integer(loc):\n\u001b[0;32m   1119\u001b[0m     \u001b[39mreturn\u001b[39;00m \u001b[39mself\u001b[39m\u001b[39m.\u001b[39m_values[loc]\n",
      "File \u001b[1;32mc:\\Users\\Cecilia\\AppData\\Local\\Programs\\Python\\Python311\\Lib\\site-packages\\pandas\\core\\indexes\\base.py:3655\u001b[0m, in \u001b[0;36mIndex.get_loc\u001b[1;34m(self, key)\u001b[0m\n\u001b[0;32m   3653\u001b[0m     \u001b[39mreturn\u001b[39;00m \u001b[39mself\u001b[39m\u001b[39m.\u001b[39m_engine\u001b[39m.\u001b[39mget_loc(casted_key)\n\u001b[0;32m   3654\u001b[0m \u001b[39mexcept\u001b[39;00m \u001b[39mKeyError\u001b[39;00m \u001b[39mas\u001b[39;00m err:\n\u001b[1;32m-> 3655\u001b[0m     \u001b[39mraise\u001b[39;00m \u001b[39mKeyError\u001b[39;00m(key) \u001b[39mfrom\u001b[39;00m \u001b[39merr\u001b[39;00m\n\u001b[0;32m   3656\u001b[0m \u001b[39mexcept\u001b[39;00m \u001b[39mTypeError\u001b[39;00m:\n\u001b[0;32m   3657\u001b[0m     \u001b[39m# If we have a listlike key, _check_indexing_error will raise\u001b[39;00m\n\u001b[0;32m   3658\u001b[0m     \u001b[39m#  InvalidIndexError. Otherwise we fall through and re-raise\u001b[39;00m\n\u001b[0;32m   3659\u001b[0m     \u001b[39m#  the TypeError.\u001b[39;00m\n\u001b[0;32m   3660\u001b[0m     \u001b[39mself\u001b[39m\u001b[39m.\u001b[39m_check_indexing_error(key)\n",
      "\u001b[1;31mKeyError\u001b[0m: False"
     ]
    }
   ],
   "source": [
    "numero_lugares = lugares[[lugares]==2]"
   ]
  }
 ],
 "metadata": {
  "kernelspec": {
   "display_name": "Python 3",
   "language": "python",
   "name": "python3"
  },
  "language_info": {
   "codemirror_mode": {
    "name": "ipython",
    "version": 3
   },
   "file_extension": ".py",
   "mimetype": "text/x-python",
   "name": "python",
   "nbconvert_exporter": "python",
   "pygments_lexer": "ipython3",
   "version": "3.11.2"
  }
 },
 "nbformat": 4,
 "nbformat_minor": 2
}
